{
 "cells": [
  {
   "cell_type": "code",
   "execution_count": null,
   "id": "110621c7",
   "metadata": {},
   "outputs": [],
   "source": [
    "size=[int(x) for x in input('Enter number of rows and columns').split()]\n",
    "r1,c1,r2,c2=size[:]\n",
    "print(r1,c1,r2,c2)\n",
    "if r1==c2:\n",
    "    m1=[int(x) for x in input('Enter elements of first matrix').split()]\n",
    "    m2=[int(x) for x in input('Enter elements of second matrix').split()]\n",
    "    matrix1=[m1[i:i+r1] for i in range(0,len(m1),r1)]\n",
    "    matrix2=[m2[i:i+r2] for i in range(0,len(m2),r2)]"
   ]
  },
  {
   "cell_type": "code",
   "execution_count": null,
   "id": "5434f40e",
   "metadata": {},
   "outputs": [],
   "source": []
  }
 ],
 "metadata": {
  "kernelspec": {
   "display_name": "Python 3",
   "language": "python",
   "name": "python3"
  },
  "language_info": {
   "codemirror_mode": {
    "name": "ipython",
    "version": 3
   },
   "file_extension": ".py",
   "mimetype": "text/x-python",
   "name": "python",
   "nbconvert_exporter": "python",
   "pygments_lexer": "ipython3",
   "version": "3.6.13"
  }
 },
 "nbformat": 4,
 "nbformat_minor": 5
}
