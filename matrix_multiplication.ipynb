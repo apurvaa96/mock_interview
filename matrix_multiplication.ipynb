{
 "cells": [
  {
   "cell_type": "code",
   "execution_count": 2,
   "id": "fff2c949",
   "metadata": {},
   "outputs": [
    {
     "name": "stdout",
     "output_type": "stream",
     "text": [
      "Enter number of rows and columns2 3 3 2\n",
      "Enter elements of first matrix1 2 3 4 5 6\n",
      "Enter elements of second matrix1 0 4 1 2 1 \n",
      "1st matrix\n",
      "[1, 2, 3]\n",
      "[4, 5, 6]\n",
      "2nd matrix\n",
      "[1, 0]\n",
      "[4, 1]\n",
      "[2, 1]\n",
      "product matrix\n",
      "[15, 5]\n",
      "[36, 11]\n"
     ]
    }
   ],
   "source": [
    "size=[int(x) for x in input('Enter number of rows and columns').split()] #taking input for no of rows and columns\n",
    "r1,c1,r2,c2=size[:] \n",
    "if c1==r2:\n",
    "    list1=[int(x) for x in input('Enter elements of first matrix').split()] #list of elements of matrix1\n",
    "    list2=[int(x) for x in input('Enter elements of second matrix').split()] #list of elements of matrix2\n",
    "    matrix1=[list1[i:i+c1] for i in range(0,len(list1),c1)] #splitting the list according to no of columns\n",
    "    print(\"1st matrix\")\n",
    "    for i in matrix1:\n",
    "        print(i,end=\"\\n\")\n",
    "    matrix2=[list2[i:i+c2] for i in range(0,len(list2),c2)] #splitting the list according to no of columns\n",
    "    print(\"2nd matrix\")\n",
    "    for i in matrix2:\n",
    "        print(i,end=\"\\n\")\n",
    "    matrix3=[[matrix2[i][j] for i in range(0,r2)] for j in range(0,c2)] #creating a new matrix for intermdeiate calculations\n",
    "    m3=[[sum(list(map(lambda x,y:x*y, matrix1[i],matrix3[j]))) for j in range(0,c2)] for i in range (0,r1)] #multiplying matrix1 and matrix3 using map() \n",
    "    print(\"product matrix\")\n",
    "    for i in m3:\n",
    "        print(i,end=\"\\n\")"
   ]
  },
  {
   "cell_type": "code",
   "execution_count": null,
   "id": "66d3826a",
   "metadata": {},
   "outputs": [],
   "source": []
  }
 ],
 "metadata": {
  "kernelspec": {
   "display_name": "Python 3",
   "language": "python",
   "name": "python3"
  },
  "language_info": {
   "codemirror_mode": {
    "name": "ipython",
    "version": 3
   },
   "file_extension": ".py",
   "mimetype": "text/x-python",
   "name": "python",
   "nbconvert_exporter": "python",
   "pygments_lexer": "ipython3",
   "version": "3.6.13"
  }
 },
 "nbformat": 4,
 "nbformat_minor": 5
}
