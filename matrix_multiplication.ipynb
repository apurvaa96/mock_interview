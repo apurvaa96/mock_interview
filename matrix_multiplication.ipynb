{
 "cells": [
  {
   "cell_type": "code",
   "execution_count": 1,
   "id": "01efc8e1",
   "metadata": {},
   "outputs": [
    {
     "name": "stdout",
     "output_type": "stream",
     "text": [
      "Enter number of rows and columns2 3 3 2\n",
      "Enter elements of first matrix1 2 3 4 5 6\n",
      "Enter elements of second matrix7 8 9 10 11 12\n",
      "1st matrix\n",
      "[1, 2, 3]\n",
      "[4, 5, 6]\n",
      "2nd matrix\n",
      "[7, 8]\n",
      "[9, 10]\n",
      "[11, 12]\n",
      "product matrix\n",
      "[58, 64]\n",
      "[139, 154]\n"
     ]
    }
   ],
   "source": [
    "size=[int(x) for x in input('Enter number of rows and columns').split()]\n",
    "r1,c1,r2,c2=size[:]\n",
    "if c1==r2:\n",
    "    m1=[int(x) for x in input('Enter elements of first matrix').split()]\n",
    "    m2=[int(x) for x in input('Enter elements of second matrix').split()]\n",
    "    matrix1=[m1[i:i+c1] for i in range(0,len(m1),c1)]\n",
    "    print(\"1st matrix\")\n",
    "    for i in matrix1:\n",
    "        print(i,end=\"\\n\")\n",
    "    matrix2=[m2[i:i+c2] for i in range(0,len(m2),c2)]\n",
    "    print(\"2nd matrix\")\n",
    "    for i in matrix2:\n",
    "        print(i,end=\"\\n\")\n",
    "    matrix=[[matrix2[i][j] for i in range(0,r2)] for j in range(0,c2)]\n",
    "    m3=[[sum(list(map(lambda x,y:x*y, matrix1[i],matrix[j]))) for j in range(0,c2)] for i in range (0,r1)]\n",
    "    print(\"product matrix\")\n",
    "    for i in m3:\n",
    "        print(i,end=\"\\n\")"
   ]
  },
  {
   "cell_type": "code",
   "execution_count": null,
   "id": "6327f12b",
   "metadata": {},
   "outputs": [],
   "source": []
  }
 ],
 "metadata": {
  "kernelspec": {
   "display_name": "Python 3",
   "language": "python",
   "name": "python3"
  },
  "language_info": {
   "codemirror_mode": {
    "name": "ipython",
    "version": 3
   },
   "file_extension": ".py",
   "mimetype": "text/x-python",
   "name": "python",
   "nbconvert_exporter": "python",
   "pygments_lexer": "ipython3",
   "version": "3.6.13"
  }
 },
 "nbformat": 4,
 "nbformat_minor": 5
}
