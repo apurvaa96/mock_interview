{
 "cells": [
  {
   "cell_type": "markdown",
   "id": "6250a493",
   "metadata": {},
   "source": [
    "#### Problem Statement<br>\n",
    "Analyze the data and generate insights that could help Netflix decide which type of shows/movies to produce and how to grow the business."
   ]
  },
  {
   "cell_type": "code",
   "execution_count": 622,
   "id": "bb85d34e",
   "metadata": {},
   "outputs": [],
   "source": [
    "import numpy as np\n",
    "import matplotlib.pyplot as plt\n",
    "import pandas as pd\n",
    "import seaborn as sns\n",
    "\n",
    "import datetime as dt"
   ]
  },
  {
   "cell_type": "markdown",
   "id": "8c8286f3",
   "metadata": {},
   "source": [
    "<b>Importing data</b>"
   ]
  },
  {
   "cell_type": "code",
   "execution_count": 623,
   "id": "7c1c78b2",
   "metadata": {},
   "outputs": [
    {
     "data": {
      "text/html": [
       "<div>\n",
       "<style scoped>\n",
       "    .dataframe tbody tr th:only-of-type {\n",
       "        vertical-align: middle;\n",
       "    }\n",
       "\n",
       "    .dataframe tbody tr th {\n",
       "        vertical-align: top;\n",
       "    }\n",
       "\n",
       "    .dataframe thead th {\n",
       "        text-align: right;\n",
       "    }\n",
       "</style>\n",
       "<table border=\"1\" class=\"dataframe\">\n",
       "  <thead>\n",
       "    <tr style=\"text-align: right;\">\n",
       "      <th></th>\n",
       "      <th>show_id</th>\n",
       "      <th>type</th>\n",
       "      <th>title</th>\n",
       "      <th>director</th>\n",
       "      <th>cast</th>\n",
       "      <th>country</th>\n",
       "      <th>date_added</th>\n",
       "      <th>release_year</th>\n",
       "      <th>rating</th>\n",
       "      <th>duration</th>\n",
       "      <th>listed_in</th>\n",
       "      <th>description</th>\n",
       "    </tr>\n",
       "  </thead>\n",
       "  <tbody>\n",
       "    <tr>\n",
       "      <th>0</th>\n",
       "      <td>s1</td>\n",
       "      <td>Movie</td>\n",
       "      <td>Dick Johnson Is Dead</td>\n",
       "      <td>Kirsten Johnson</td>\n",
       "      <td>NaN</td>\n",
       "      <td>United States</td>\n",
       "      <td>September 25, 2021</td>\n",
       "      <td>2020</td>\n",
       "      <td>PG-13</td>\n",
       "      <td>90 min</td>\n",
       "      <td>Documentaries</td>\n",
       "      <td>As her father nears the end of his life, filmm...</td>\n",
       "    </tr>\n",
       "    <tr>\n",
       "      <th>1</th>\n",
       "      <td>s2</td>\n",
       "      <td>TV Show</td>\n",
       "      <td>Blood &amp; Water</td>\n",
       "      <td>NaN</td>\n",
       "      <td>Ama Qamata, Khosi Ngema, Gail Mabalane, Thaban...</td>\n",
       "      <td>South Africa</td>\n",
       "      <td>September 24, 2021</td>\n",
       "      <td>2021</td>\n",
       "      <td>TV-MA</td>\n",
       "      <td>2 Seasons</td>\n",
       "      <td>International TV Shows, TV Dramas, TV Mysteries</td>\n",
       "      <td>After crossing paths at a party, a Cape Town t...</td>\n",
       "    </tr>\n",
       "    <tr>\n",
       "      <th>2</th>\n",
       "      <td>s3</td>\n",
       "      <td>TV Show</td>\n",
       "      <td>Ganglands</td>\n",
       "      <td>Julien Leclercq</td>\n",
       "      <td>Sami Bouajila, Tracy Gotoas, Samuel Jouy, Nabi...</td>\n",
       "      <td>NaN</td>\n",
       "      <td>September 24, 2021</td>\n",
       "      <td>2021</td>\n",
       "      <td>TV-MA</td>\n",
       "      <td>1 Season</td>\n",
       "      <td>Crime TV Shows, International TV Shows, TV Act...</td>\n",
       "      <td>To protect his family from a powerful drug lor...</td>\n",
       "    </tr>\n",
       "    <tr>\n",
       "      <th>3</th>\n",
       "      <td>s4</td>\n",
       "      <td>TV Show</td>\n",
       "      <td>Jailbirds New Orleans</td>\n",
       "      <td>NaN</td>\n",
       "      <td>NaN</td>\n",
       "      <td>NaN</td>\n",
       "      <td>September 24, 2021</td>\n",
       "      <td>2021</td>\n",
       "      <td>TV-MA</td>\n",
       "      <td>1 Season</td>\n",
       "      <td>Docuseries, Reality TV</td>\n",
       "      <td>Feuds, flirtations and toilet talk go down amo...</td>\n",
       "    </tr>\n",
       "    <tr>\n",
       "      <th>4</th>\n",
       "      <td>s5</td>\n",
       "      <td>TV Show</td>\n",
       "      <td>Kota Factory</td>\n",
       "      <td>NaN</td>\n",
       "      <td>Mayur More, Jitendra Kumar, Ranjan Raj, Alam K...</td>\n",
       "      <td>India</td>\n",
       "      <td>September 24, 2021</td>\n",
       "      <td>2021</td>\n",
       "      <td>TV-MA</td>\n",
       "      <td>2 Seasons</td>\n",
       "      <td>International TV Shows, Romantic TV Shows, TV ...</td>\n",
       "      <td>In a city of coaching centers known to train I...</td>\n",
       "    </tr>\n",
       "  </tbody>\n",
       "</table>\n",
       "</div>"
      ],
      "text/plain": [
       "  show_id     type                  title         director  \\\n",
       "0      s1    Movie   Dick Johnson Is Dead  Kirsten Johnson   \n",
       "1      s2  TV Show          Blood & Water              NaN   \n",
       "2      s3  TV Show              Ganglands  Julien Leclercq   \n",
       "3      s4  TV Show  Jailbirds New Orleans              NaN   \n",
       "4      s5  TV Show           Kota Factory              NaN   \n",
       "\n",
       "                                                cast        country  \\\n",
       "0                                                NaN  United States   \n",
       "1  Ama Qamata, Khosi Ngema, Gail Mabalane, Thaban...   South Africa   \n",
       "2  Sami Bouajila, Tracy Gotoas, Samuel Jouy, Nabi...            NaN   \n",
       "3                                                NaN            NaN   \n",
       "4  Mayur More, Jitendra Kumar, Ranjan Raj, Alam K...          India   \n",
       "\n",
       "           date_added  release_year rating   duration  \\\n",
       "0  September 25, 2021          2020  PG-13     90 min   \n",
       "1  September 24, 2021          2021  TV-MA  2 Seasons   \n",
       "2  September 24, 2021          2021  TV-MA   1 Season   \n",
       "3  September 24, 2021          2021  TV-MA   1 Season   \n",
       "4  September 24, 2021          2021  TV-MA  2 Seasons   \n",
       "\n",
       "                                           listed_in  \\\n",
       "0                                      Documentaries   \n",
       "1    International TV Shows, TV Dramas, TV Mysteries   \n",
       "2  Crime TV Shows, International TV Shows, TV Act...   \n",
       "3                             Docuseries, Reality TV   \n",
       "4  International TV Shows, Romantic TV Shows, TV ...   \n",
       "\n",
       "                                         description  \n",
       "0  As her father nears the end of his life, filmm...  \n",
       "1  After crossing paths at a party, a Cape Town t...  \n",
       "2  To protect his family from a powerful drug lor...  \n",
       "3  Feuds, flirtations and toilet talk go down amo...  \n",
       "4  In a city of coaching centers known to train I...  "
      ]
     },
     "execution_count": 623,
     "metadata": {},
     "output_type": "execute_result"
    }
   ],
   "source": [
    "netflix=pd.read_csv(\"C:/Users/Apurva/Desktop/netflix.csv\")\n",
    "netflix.head()"
   ]
  },
  {
   "cell_type": "markdown",
   "id": "06dcf64f",
   "metadata": {},
   "source": [
    "<b>Shape of data</b>"
   ]
  },
  {
   "cell_type": "code",
   "execution_count": 624,
   "id": "7fc5d00a",
   "metadata": {},
   "outputs": [
    {
     "data": {
      "text/plain": [
       "(8807, 12)"
      ]
     },
     "execution_count": 624,
     "metadata": {},
     "output_type": "execute_result"
    }
   ],
   "source": [
    "netflix.shape"
   ]
  },
  {
   "cell_type": "markdown",
   "id": "2bb466e0",
   "metadata": {},
   "source": [
    "<b>Names of all columns</b>"
   ]
  },
  {
   "cell_type": "code",
   "execution_count": 625,
   "id": "a90c6714",
   "metadata": {},
   "outputs": [
    {
     "data": {
      "text/plain": [
       "Index(['show_id', 'type', 'title', 'director', 'cast', 'country', 'date_added',\n",
       "       'release_year', 'rating', 'duration', 'listed_in', 'description'],\n",
       "      dtype='object')"
      ]
     },
     "execution_count": 625,
     "metadata": {},
     "output_type": "execute_result"
    }
   ],
   "source": [
    "netflix.columns"
   ]
  },
  {
   "cell_type": "markdown",
   "id": "69b24cd4",
   "metadata": {},
   "source": [
    "<b>Datatypes of all columns</b>"
   ]
  },
  {
   "cell_type": "code",
   "execution_count": 626,
   "id": "3a8e1697",
   "metadata": {},
   "outputs": [
    {
     "name": "stdout",
     "output_type": "stream",
     "text": [
      "<class 'pandas.core.frame.DataFrame'>\n",
      "RangeIndex: 8807 entries, 0 to 8806\n",
      "Data columns (total 12 columns):\n",
      " #   Column        Non-Null Count  Dtype \n",
      "---  ------        --------------  ----- \n",
      " 0   show_id       8807 non-null   object\n",
      " 1   type          8807 non-null   object\n",
      " 2   title         8807 non-null   object\n",
      " 3   director      6173 non-null   object\n",
      " 4   cast          7982 non-null   object\n",
      " 5   country       7976 non-null   object\n",
      " 6   date_added    8797 non-null   object\n",
      " 7   release_year  8807 non-null   int64 \n",
      " 8   rating        8803 non-null   object\n",
      " 9   duration      8804 non-null   object\n",
      " 10  listed_in     8807 non-null   object\n",
      " 11  description   8807 non-null   object\n",
      "dtypes: int64(1), object(11)\n",
      "memory usage: 825.8+ KB\n"
     ]
    }
   ],
   "source": [
    "netflix.info()"
   ]
  },
  {
   "cell_type": "markdown",
   "id": "ab8a104c",
   "metadata": {},
   "source": [
    "<b>Renaming \"listed_in\" as \"genre\" for better understanding</b>"
   ]
  },
  {
   "cell_type": "code",
   "execution_count": 627,
   "id": "c57f720a",
   "metadata": {},
   "outputs": [
    {
     "data": {
      "text/plain": [
       "Index(['show_id', 'type', 'title', 'director', 'cast', 'country', 'date_added',\n",
       "       'release_year', 'rating', 'duration', 'genre', 'description'],\n",
       "      dtype='object')"
      ]
     },
     "execution_count": 627,
     "metadata": {},
     "output_type": "execute_result"
    }
   ],
   "source": [
    "netflix.rename(columns={\"listed_in\":\"genre\"},inplace=True)\n",
    "netflix.columns"
   ]
  },
  {
   "cell_type": "markdown",
   "id": "3012b368",
   "metadata": {},
   "source": [
    "<b>Checking for duplicate rows</b>"
   ]
  },
  {
   "cell_type": "code",
   "execution_count": 628,
   "id": "433219b5",
   "metadata": {},
   "outputs": [
    {
     "data": {
      "text/plain": [
       "(8807, 12)"
      ]
     },
     "execution_count": 628,
     "metadata": {},
     "output_type": "execute_result"
    }
   ],
   "source": [
    "netflix=netflix.drop_duplicates()\n",
    "netflix.shape"
   ]
  },
  {
   "cell_type": "markdown",
   "id": "84b5d7cd",
   "metadata": {},
   "source": [
    "<b>Missing data detection</b>"
   ]
  },
  {
   "cell_type": "code",
   "execution_count": 629,
   "id": "f73bfc27",
   "metadata": {},
   "outputs": [
    {
     "name": "stdout",
     "output_type": "stream",
     "text": [
      "show_id            0\n",
      "type               0\n",
      "title              0\n",
      "director        2634\n",
      "cast             825\n",
      "country          831\n",
      "date_added        10\n",
      "release_year       0\n",
      "rating             4\n",
      "duration           3\n",
      "genre              0\n",
      "description        0\n",
      "dtype: int64\n"
     ]
    },
    {
     "data": {
      "text/plain": [
       "director        29.908028\n",
       "country          9.435676\n",
       "cast             9.367549\n",
       "date_added       0.113546\n",
       "rating           0.045418\n",
       "duration         0.034064\n",
       "show_id          0.000000\n",
       "type             0.000000\n",
       "title            0.000000\n",
       "release_year     0.000000\n",
       "genre            0.000000\n",
       "description      0.000000\n",
       "dtype: float64"
      ]
     },
     "execution_count": 629,
     "metadata": {},
     "output_type": "execute_result"
    }
   ],
   "source": [
    "missing=netflix.isnull() \n",
    "print(missing.sum()) #checking how many values are missing\n",
    "missing_p=missing.sum()*100/len(netflix)\n",
    "missing_p.sort_values(ascending=False) #checking percentage of missing data in each column"
   ]
  },
  {
   "cell_type": "markdown",
   "id": "86d4e5cd",
   "metadata": {},
   "source": [
    "### Inference<br>\n",
    "- There are <b>8807 rows x 12 columns</b> in the dataset.\n",
    "- There are <b>no duplicate rows.</b>\n",
    "- All 12 columns have meaningful names and can be changed for better understanding.\n",
    "- <b>29.9%</b> of the values are <b>missing in \"director\" column.</b>\n",
    "- <b>9.4%</b> values are <b>missing in \"countries\" column.</b> \n",
    "- <b>9.3%</b> values are <b>missing in \"cast\" column.</b>\n",
    "- <b>0.11%</b> i.e 10 values are <b>missing in \"date_added\" column.</b>\n",
    "- <b>0.04%</b> i.e. 4 values are <b>missing in \"rating\" column.</b>\n",
    "- <b>0.03%</b> i.e. 3 values are <b>missing in \"duration\" column.</b>"
   ]
  },
  {
   "cell_type": "markdown",
   "id": "11283f55",
   "metadata": {},
   "source": [
    "<b>Missing values treatment</b>"
   ]
  },
  {
   "cell_type": "markdown",
   "id": "d08796b1",
   "metadata": {},
   "source": [
    "- <u>Dropping the rows where \"rating\" and \"duration\" are missing</u>"
   ]
  },
  {
   "cell_type": "code",
   "execution_count": 630,
   "id": "392e4840",
   "metadata": {},
   "outputs": [],
   "source": [
    "netflix.dropna(subset=[\"rating\", \"duration\"], how=\"any\",inplace=True) "
   ]
  },
  {
   "cell_type": "code",
   "execution_count": 631,
   "id": "2fbf61a6",
   "metadata": {},
   "outputs": [
    {
     "name": "stdout",
     "output_type": "stream",
     "text": [
      "(8800, 12)\n"
     ]
    },
    {
     "data": {
      "text/plain": [
       "director        2631\n",
       "country          830\n",
       "cast             825\n",
       "date_added        10\n",
       "show_id            0\n",
       "type               0\n",
       "title              0\n",
       "release_year       0\n",
       "rating             0\n",
       "duration           0\n",
       "genre              0\n",
       "description        0\n",
       "dtype: int64"
      ]
     },
     "execution_count": 631,
     "metadata": {},
     "output_type": "execute_result"
    }
   ],
   "source": [
    "print(netflix.shape)\n",
    "netflix.isnull().sum().sort_values(ascending=False)"
   ]
  },
  {
   "cell_type": "markdown",
   "id": "dd08af2a",
   "metadata": {},
   "source": [
    "- <u>Changing datatype of \"date_added\" and handling missing values in the column  </u>"
   ]
  },
  {
   "cell_type": "code",
   "execution_count": 632,
   "id": "938d4122",
   "metadata": {},
   "outputs": [
    {
     "data": {
      "text/html": [
       "<div>\n",
       "<style scoped>\n",
       "    .dataframe tbody tr th:only-of-type {\n",
       "        vertical-align: middle;\n",
       "    }\n",
       "\n",
       "    .dataframe tbody tr th {\n",
       "        vertical-align: top;\n",
       "    }\n",
       "\n",
       "    .dataframe thead th {\n",
       "        text-align: right;\n",
       "    }\n",
       "</style>\n",
       "<table border=\"1\" class=\"dataframe\">\n",
       "  <thead>\n",
       "    <tr style=\"text-align: right;\">\n",
       "      <th></th>\n",
       "      <th>show_id</th>\n",
       "      <th>type</th>\n",
       "      <th>title</th>\n",
       "      <th>director</th>\n",
       "      <th>cast</th>\n",
       "      <th>country</th>\n",
       "      <th>date_added</th>\n",
       "      <th>release_year</th>\n",
       "      <th>rating</th>\n",
       "      <th>duration</th>\n",
       "      <th>genre</th>\n",
       "      <th>description</th>\n",
       "    </tr>\n",
       "  </thead>\n",
       "  <tbody>\n",
       "    <tr>\n",
       "      <th>0</th>\n",
       "      <td>s1</td>\n",
       "      <td>Movie</td>\n",
       "      <td>Dick Johnson Is Dead</td>\n",
       "      <td>Kirsten Johnson</td>\n",
       "      <td>NaN</td>\n",
       "      <td>United States</td>\n",
       "      <td>2021-09-25</td>\n",
       "      <td>2020</td>\n",
       "      <td>PG-13</td>\n",
       "      <td>90 min</td>\n",
       "      <td>Documentaries</td>\n",
       "      <td>As her father nears the end of his life, filmm...</td>\n",
       "    </tr>\n",
       "    <tr>\n",
       "      <th>1</th>\n",
       "      <td>s2</td>\n",
       "      <td>TV Show</td>\n",
       "      <td>Blood &amp; Water</td>\n",
       "      <td>NaN</td>\n",
       "      <td>Ama Qamata, Khosi Ngema, Gail Mabalane, Thaban...</td>\n",
       "      <td>South Africa</td>\n",
       "      <td>2021-09-24</td>\n",
       "      <td>2021</td>\n",
       "      <td>TV-MA</td>\n",
       "      <td>2 Seasons</td>\n",
       "      <td>International TV Shows, TV Dramas, TV Mysteries</td>\n",
       "      <td>After crossing paths at a party, a Cape Town t...</td>\n",
       "    </tr>\n",
       "    <tr>\n",
       "      <th>2</th>\n",
       "      <td>s3</td>\n",
       "      <td>TV Show</td>\n",
       "      <td>Ganglands</td>\n",
       "      <td>Julien Leclercq</td>\n",
       "      <td>Sami Bouajila, Tracy Gotoas, Samuel Jouy, Nabi...</td>\n",
       "      <td>NaN</td>\n",
       "      <td>2021-09-24</td>\n",
       "      <td>2021</td>\n",
       "      <td>TV-MA</td>\n",
       "      <td>1 Season</td>\n",
       "      <td>Crime TV Shows, International TV Shows, TV Act...</td>\n",
       "      <td>To protect his family from a powerful drug lor...</td>\n",
       "    </tr>\n",
       "    <tr>\n",
       "      <th>3</th>\n",
       "      <td>s4</td>\n",
       "      <td>TV Show</td>\n",
       "      <td>Jailbirds New Orleans</td>\n",
       "      <td>NaN</td>\n",
       "      <td>NaN</td>\n",
       "      <td>NaN</td>\n",
       "      <td>2021-09-24</td>\n",
       "      <td>2021</td>\n",
       "      <td>TV-MA</td>\n",
       "      <td>1 Season</td>\n",
       "      <td>Docuseries, Reality TV</td>\n",
       "      <td>Feuds, flirtations and toilet talk go down amo...</td>\n",
       "    </tr>\n",
       "    <tr>\n",
       "      <th>4</th>\n",
       "      <td>s5</td>\n",
       "      <td>TV Show</td>\n",
       "      <td>Kota Factory</td>\n",
       "      <td>NaN</td>\n",
       "      <td>Mayur More, Jitendra Kumar, Ranjan Raj, Alam K...</td>\n",
       "      <td>India</td>\n",
       "      <td>2021-09-24</td>\n",
       "      <td>2021</td>\n",
       "      <td>TV-MA</td>\n",
       "      <td>2 Seasons</td>\n",
       "      <td>International TV Shows, Romantic TV Shows, TV ...</td>\n",
       "      <td>In a city of coaching centers known to train I...</td>\n",
       "    </tr>\n",
       "  </tbody>\n",
       "</table>\n",
       "</div>"
      ],
      "text/plain": [
       "  show_id     type                  title         director  \\\n",
       "0      s1    Movie   Dick Johnson Is Dead  Kirsten Johnson   \n",
       "1      s2  TV Show          Blood & Water              NaN   \n",
       "2      s3  TV Show              Ganglands  Julien Leclercq   \n",
       "3      s4  TV Show  Jailbirds New Orleans              NaN   \n",
       "4      s5  TV Show           Kota Factory              NaN   \n",
       "\n",
       "                                                cast        country  \\\n",
       "0                                                NaN  United States   \n",
       "1  Ama Qamata, Khosi Ngema, Gail Mabalane, Thaban...   South Africa   \n",
       "2  Sami Bouajila, Tracy Gotoas, Samuel Jouy, Nabi...            NaN   \n",
       "3                                                NaN            NaN   \n",
       "4  Mayur More, Jitendra Kumar, Ranjan Raj, Alam K...          India   \n",
       "\n",
       "  date_added  release_year rating   duration  \\\n",
       "0 2021-09-25          2020  PG-13     90 min   \n",
       "1 2021-09-24          2021  TV-MA  2 Seasons   \n",
       "2 2021-09-24          2021  TV-MA   1 Season   \n",
       "3 2021-09-24          2021  TV-MA   1 Season   \n",
       "4 2021-09-24          2021  TV-MA  2 Seasons   \n",
       "\n",
       "                                               genre  \\\n",
       "0                                      Documentaries   \n",
       "1    International TV Shows, TV Dramas, TV Mysteries   \n",
       "2  Crime TV Shows, International TV Shows, TV Act...   \n",
       "3                             Docuseries, Reality TV   \n",
       "4  International TV Shows, Romantic TV Shows, TV ...   \n",
       "\n",
       "                                         description  \n",
       "0  As her father nears the end of his life, filmm...  \n",
       "1  After crossing paths at a party, a Cape Town t...  \n",
       "2  To protect his family from a powerful drug lor...  \n",
       "3  Feuds, flirtations and toilet talk go down amo...  \n",
       "4  In a city of coaching centers known to train I...  "
      ]
     },
     "execution_count": 632,
     "metadata": {},
     "output_type": "execute_result"
    }
   ],
   "source": [
    "netflix[\"date_added\"] = pd.to_datetime(netflix[\"date_added\"])\n",
    "netflix.head()"
   ]
  },
  {
   "cell_type": "code",
   "execution_count": 633,
   "id": "ca466431",
   "metadata": {},
   "outputs": [
    {
     "data": {
      "text/html": [
       "<div>\n",
       "<style scoped>\n",
       "    .dataframe tbody tr th:only-of-type {\n",
       "        vertical-align: middle;\n",
       "    }\n",
       "\n",
       "    .dataframe tbody tr th {\n",
       "        vertical-align: top;\n",
       "    }\n",
       "\n",
       "    .dataframe thead th {\n",
       "        text-align: right;\n",
       "    }\n",
       "</style>\n",
       "<table border=\"1\" class=\"dataframe\">\n",
       "  <thead>\n",
       "    <tr style=\"text-align: right;\">\n",
       "      <th></th>\n",
       "      <th>date_added</th>\n",
       "      <th>release_year</th>\n",
       "    </tr>\n",
       "  </thead>\n",
       "  <tbody>\n",
       "    <tr>\n",
       "      <th>count</th>\n",
       "      <td>8790</td>\n",
       "      <td>8800.000000</td>\n",
       "    </tr>\n",
       "    <tr>\n",
       "      <th>mean</th>\n",
       "      <td>2019-05-17 21:44:01.638225408</td>\n",
       "      <td>2014.179886</td>\n",
       "    </tr>\n",
       "    <tr>\n",
       "      <th>min</th>\n",
       "      <td>2008-01-01 00:00:00</td>\n",
       "      <td>1925.000000</td>\n",
       "    </tr>\n",
       "    <tr>\n",
       "      <th>25%</th>\n",
       "      <td>2018-04-06 00:00:00</td>\n",
       "      <td>2013.000000</td>\n",
       "    </tr>\n",
       "    <tr>\n",
       "      <th>50%</th>\n",
       "      <td>2019-07-03 00:00:00</td>\n",
       "      <td>2017.000000</td>\n",
       "    </tr>\n",
       "    <tr>\n",
       "      <th>75%</th>\n",
       "      <td>2020-08-19 18:00:00</td>\n",
       "      <td>2019.000000</td>\n",
       "    </tr>\n",
       "    <tr>\n",
       "      <th>max</th>\n",
       "      <td>2021-09-25 00:00:00</td>\n",
       "      <td>2021.000000</td>\n",
       "    </tr>\n",
       "    <tr>\n",
       "      <th>std</th>\n",
       "      <td>NaN</td>\n",
       "      <td>8.822583</td>\n",
       "    </tr>\n",
       "  </tbody>\n",
       "</table>\n",
       "</div>"
      ],
      "text/plain": [
       "                          date_added  release_year\n",
       "count                           8790   8800.000000\n",
       "mean   2019-05-17 21:44:01.638225408   2014.179886\n",
       "min              2008-01-01 00:00:00   1925.000000\n",
       "25%              2018-04-06 00:00:00   2013.000000\n",
       "50%              2019-07-03 00:00:00   2017.000000\n",
       "75%              2020-08-19 18:00:00   2019.000000\n",
       "max              2021-09-25 00:00:00   2021.000000\n",
       "std                              NaN      8.822583"
      ]
     },
     "execution_count": 633,
     "metadata": {},
     "output_type": "execute_result"
    }
   ],
   "source": [
    "netflix.describe(datetime_is_numeric=True)"
   ]
  },
  {
   "cell_type": "markdown",
   "id": "f478dc7a",
   "metadata": {},
   "source": [
    "- First \"date_added\" is 2008-01-01 \n",
    "- For \"release_year\" earlier than 2008 we can add 2008-01-01 as \"date_added\""
   ]
  },
  {
   "cell_type": "code",
   "execution_count": 634,
   "id": "e3e24994",
   "metadata": {},
   "outputs": [],
   "source": [
    "netflix.loc[netflix.release_year < 2008, \"date_added\"] = \"2008-01-01\""
   ]
  },
  {
   "cell_type": "markdown",
   "id": "f955a387",
   "metadata": {},
   "source": [
    "- For \"release_year\" later than or equal to 2008 let us change the \"date_added\" to one year after release_year"
   ]
  },
  {
   "cell_type": "code",
   "execution_count": 635,
   "id": "9140e799",
   "metadata": {},
   "outputs": [],
   "source": [
    "df1=netflix.loc[netflix.date_added.isnull(),\"release_year\"] #finding release_years for shows with date_added unknown"
   ]
  },
  {
   "cell_type": "code",
   "execution_count": 636,
   "id": "e77f8faf",
   "metadata": {},
   "outputs": [],
   "source": [
    "df2=df1.apply(lambda x:dt.datetime(x+1,1,1)) #converting the release_years into date time format"
   ]
  },
  {
   "cell_type": "code",
   "execution_count": 637,
   "id": "dcad4d7f",
   "metadata": {},
   "outputs": [
    {
     "data": {
      "text/plain": [
       "6066   2014-01-01\n",
       "6174   2019-01-01\n",
       "6901   2009-01-01\n",
       "7196   2011-01-01\n",
       "7254   2013-01-01\n",
       "7406   2017-01-01\n",
       "7847   2016-01-01\n",
       "8182   2016-01-01\n",
       "Name: release_year, dtype: datetime64[ns]"
      ]
     },
     "execution_count": 637,
     "metadata": {},
     "output_type": "execute_result"
    }
   ],
   "source": [
    "df2"
   ]
  },
  {
   "cell_type": "code",
   "execution_count": 638,
   "id": "a9be3e00",
   "metadata": {},
   "outputs": [],
   "source": [
    "netflix.loc[netflix.date_added.isnull(), \"date_added\"] = df2 #replacing null values in \"date_added\" with obtained values from release_year"
   ]
  },
  {
   "cell_type": "code",
   "execution_count": 639,
   "id": "0ac0b8fb",
   "metadata": {},
   "outputs": [
    {
     "data": {
      "text/plain": [
       "director        2631\n",
       "country          830\n",
       "cast             825\n",
       "show_id            0\n",
       "type               0\n",
       "title              0\n",
       "date_added         0\n",
       "release_year       0\n",
       "rating             0\n",
       "duration           0\n",
       "genre              0\n",
       "description        0\n",
       "dtype: int64"
      ]
     },
     "execution_count": 639,
     "metadata": {},
     "output_type": "execute_result"
    }
   ],
   "source": [
    "netflix.isnull().sum().sort_values(ascending=False) #Checking again for missing values data"
   ]
  },
  {
   "cell_type": "markdown",
   "id": "4ced83f5",
   "metadata": {},
   "source": [
    "- <u>Replacing missing values in \"country\" column with mode</u>"
   ]
  },
  {
   "cell_type": "code",
   "execution_count": 640,
   "id": "88c9bd55",
   "metadata": {},
   "outputs": [],
   "source": [
    "netflix[\"country\"] = netflix[\"country\"].fillna(netflix[\"country\"].mode()[0])"
   ]
  },
  {
   "cell_type": "code",
   "execution_count": 641,
   "id": "220ca2c1",
   "metadata": {},
   "outputs": [
    {
     "data": {
      "text/plain": [
       "director        2631\n",
       "cast             825\n",
       "show_id            0\n",
       "type               0\n",
       "title              0\n",
       "country            0\n",
       "date_added         0\n",
       "release_year       0\n",
       "rating             0\n",
       "duration           0\n",
       "genre              0\n",
       "description        0\n",
       "dtype: int64"
      ]
     },
     "execution_count": 641,
     "metadata": {},
     "output_type": "execute_result"
    }
   ],
   "source": [
    "netflix.isnull().sum().sort_values(ascending=False)"
   ]
  },
  {
   "cell_type": "markdown",
   "id": "c18eec0b",
   "metadata": {},
   "source": [
    "<b>Deriving new columns</b><br>\n",
    "- <u>Adding \"year_added\",\"month_added\" and \"day_added\n",
    "\" column from \"date_added\"</u><br>\n",
    "- <u>Dropping \"show_id\" as it won't be used in analysis</u>"
   ]
  },
  {
   "cell_type": "code",
   "execution_count": 642,
   "id": "22683ad0",
   "metadata": {},
   "outputs": [
    {
     "data": {
      "text/plain": [
       "(8800, 14)"
      ]
     },
     "execution_count": 642,
     "metadata": {},
     "output_type": "execute_result"
    }
   ],
   "source": [
    "netflix[\"year_added\"]=netflix[\"date_added\"].dt.year\n",
    "netflix[\"month_added\"]=netflix[\"date_added\"].dt.month\n",
    "import calendar\n",
    "netflix[\"day_added\"]=netflix[\"date_added\"].apply(lambda x: calendar.day_name[x.weekday()])\n",
    "netflix=netflix.drop(\"show_id\",axis=1)\n",
    "netflix.shape"
   ]
  },
  {
   "cell_type": "markdown",
   "id": "dcb1e7c3",
   "metadata": {},
   "source": [
    "<b>Value counts for each column</b>"
   ]
  },
  {
   "cell_type": "code",
   "execution_count": 643,
   "id": "eec882ac",
   "metadata": {},
   "outputs": [
    {
     "data": {
      "text/plain": [
       "type               2\n",
       "title           8800\n",
       "director        4526\n",
       "cast            7688\n",
       "country          748\n",
       "date_added      1692\n",
       "release_year      74\n",
       "rating            14\n",
       "duration         220\n",
       "genre            514\n",
       "description     8768\n",
       "year_added        13\n",
       "month_added       12\n",
       "day_added          7\n",
       "dtype: int64"
      ]
     },
     "execution_count": 643,
     "metadata": {},
     "output_type": "execute_result"
    }
   ],
   "source": [
    "netflix.nunique()"
   ]
  },
  {
   "cell_type": "code",
   "execution_count": 644,
   "id": "32ee84fd",
   "metadata": {},
   "outputs": [
    {
     "data": {
      "text/html": [
       "<div>\n",
       "<style scoped>\n",
       "    .dataframe tbody tr th:only-of-type {\n",
       "        vertical-align: middle;\n",
       "    }\n",
       "\n",
       "    .dataframe tbody tr th {\n",
       "        vertical-align: top;\n",
       "    }\n",
       "\n",
       "    .dataframe thead th {\n",
       "        text-align: right;\n",
       "    }\n",
       "</style>\n",
       "<table border=\"1\" class=\"dataframe\">\n",
       "  <thead>\n",
       "    <tr style=\"text-align: right;\">\n",
       "      <th></th>\n",
       "      <th>release_year</th>\n",
       "      <th>year_added</th>\n",
       "      <th>month_added</th>\n",
       "    </tr>\n",
       "  </thead>\n",
       "  <tbody>\n",
       "    <tr>\n",
       "      <th>count</th>\n",
       "      <td>8800.000000</td>\n",
       "      <td>8800.000000</td>\n",
       "      <td>8800.000000</td>\n",
       "    </tr>\n",
       "    <tr>\n",
       "      <th>mean</th>\n",
       "      <td>2014.179886</td>\n",
       "      <td>2017.561818</td>\n",
       "      <td>5.958864</td>\n",
       "    </tr>\n",
       "    <tr>\n",
       "      <th>std</th>\n",
       "      <td>8.822583</td>\n",
       "      <td>3.803808</td>\n",
       "      <td>3.681043</td>\n",
       "    </tr>\n",
       "    <tr>\n",
       "      <th>min</th>\n",
       "      <td>1925.000000</td>\n",
       "      <td>2008.000000</td>\n",
       "      <td>1.000000</td>\n",
       "    </tr>\n",
       "    <tr>\n",
       "      <th>25%</th>\n",
       "      <td>2013.000000</td>\n",
       "      <td>2017.000000</td>\n",
       "      <td>3.000000</td>\n",
       "    </tr>\n",
       "    <tr>\n",
       "      <th>50%</th>\n",
       "      <td>2017.000000</td>\n",
       "      <td>2019.000000</td>\n",
       "      <td>6.000000</td>\n",
       "    </tr>\n",
       "    <tr>\n",
       "      <th>75%</th>\n",
       "      <td>2019.000000</td>\n",
       "      <td>2020.000000</td>\n",
       "      <td>9.000000</td>\n",
       "    </tr>\n",
       "    <tr>\n",
       "      <th>max</th>\n",
       "      <td>2021.000000</td>\n",
       "      <td>2021.000000</td>\n",
       "      <td>12.000000</td>\n",
       "    </tr>\n",
       "  </tbody>\n",
       "</table>\n",
       "</div>"
      ],
      "text/plain": [
       "       release_year   year_added  month_added\n",
       "count   8800.000000  8800.000000  8800.000000\n",
       "mean    2014.179886  2017.561818     5.958864\n",
       "std        8.822583     3.803808     3.681043\n",
       "min     1925.000000  2008.000000     1.000000\n",
       "25%     2013.000000  2017.000000     3.000000\n",
       "50%     2017.000000  2019.000000     6.000000\n",
       "75%     2019.000000  2020.000000     9.000000\n",
       "max     2021.000000  2021.000000    12.000000"
      ]
     },
     "execution_count": 644,
     "metadata": {},
     "output_type": "execute_result"
    }
   ],
   "source": [
    "netflix.describe()"
   ]
  },
  {
   "cell_type": "markdown",
   "id": "48de2db7",
   "metadata": {},
   "source": [
    "### Inference<br>\n",
    "- According to the data, Netflix <b>began adding TV shows and Movies in year 2008.</b>\n",
    "- Earliest released Movie/TV show on Netflix is with <b>release_year 1925.</b>\n",
    "- Latest released Movie/TV show on Netflix is with <b>release_year 2021.</b>\n",
    "- <b>25%</b> of the shows/movies are those <b>released after 2019.</b>\n",
    "- <b>75%</b> of the shows/movies are <b>added on Netflix after 2017.</b>"
   ]
  },
  {
   "cell_type": "markdown",
   "id": "77140a8b",
   "metadata": {},
   "source": [
    "#### Visual analysis"
   ]
  },
  {
   "cell_type": "code",
   "execution_count": 645,
   "id": "fbcccf9a",
   "metadata": {},
   "outputs": [
    {
     "data": {
      "text/plain": [
       "<AxesSubplot:ylabel='type'>"
      ]
     },
     "execution_count": 645,
     "metadata": {},
     "output_type": "execute_result"
    },
    {
     "data": {
      "image/png": "[encoded data removed]",
      "text/plain": [
       "<Figure size 432x288 with 1 Axes>"
      ]
     },
     "metadata": {},
     "output_type": "display_data"
    }
   ],
   "source": [
    "netflix[\"type\"].value_counts().plot(kind=\"pie\",autopct=\"%.2f\",colors=[\"#F08080\",\"#B4CDCD\"])"
   ]
  },
  {
   "cell_type": "markdown",
   "id": "a0f26f34",
   "metadata": {},
   "source": [
    "### Inference<br>\n",
    "- <b>69.6%</b> of the content consists of <b>movies.</b>\n",
    "- <b>30.3%</b> of the content consists of <b>TV shows.</b>\n",
    "- Movie is the popular format of content, so number of movies added should be maintained.\n",
    "- More TV shows can be added to increase the subscribers."
   ]
  },
  {
   "cell_type": "code",
   "execution_count": 646,
   "id": "54bd22ca",
   "metadata": {},
   "outputs": [
    {
     "data": {
      "text/html": [
       "<div>\n",
       "<style scoped>\n",
       "    .dataframe tbody tr th:only-of-type {\n",
       "        vertical-align: middle;\n",
       "    }\n",
       "\n",
       "    .dataframe tbody tr th {\n",
       "        vertical-align: top;\n",
       "    }\n",
       "\n",
       "    .dataframe thead th {\n",
       "        text-align: right;\n",
       "    }\n",
       "</style>\n",
       "<table border=\"1\" class=\"dataframe\">\n",
       "  <thead>\n",
       "    <tr style=\"text-align: right;\">\n",
       "      <th></th>\n",
       "      <th>type</th>\n",
       "      <th>title</th>\n",
       "      <th>director</th>\n",
       "      <th>cast</th>\n",
       "      <th>country</th>\n",
       "      <th>date_added</th>\n",
       "      <th>release_year</th>\n",
       "      <th>rating</th>\n",
       "      <th>duration</th>\n",
       "      <th>genre</th>\n",
       "      <th>description</th>\n",
       "      <th>year_added</th>\n",
       "      <th>month_added</th>\n",
       "      <th>day_added</th>\n",
       "    </tr>\n",
       "  </thead>\n",
       "  <tbody>\n",
       "    <tr>\n",
       "      <th>0</th>\n",
       "      <td>Movie</td>\n",
       "      <td>Dick Johnson Is Dead</td>\n",
       "      <td>Kirsten Johnson</td>\n",
       "      <td>NaN</td>\n",
       "      <td>United States</td>\n",
       "      <td>2021-09-25</td>\n",
       "      <td>2020</td>\n",
       "      <td>PG-13</td>\n",
       "      <td>90 min</td>\n",
       "      <td>Documentaries</td>\n",
       "      <td>As her father nears the end of his life, filmm...</td>\n",
       "      <td>2021</td>\n",
       "      <td>9</td>\n",
       "      <td>Saturday</td>\n",
       "    </tr>\n",
       "    <tr>\n",
       "      <th>1</th>\n",
       "      <td>TV Show</td>\n",
       "      <td>Blood &amp; Water</td>\n",
       "      <td>NaN</td>\n",
       "      <td>Ama Qamata, Khosi Ngema, Gail Mabalane, Thaban...</td>\n",
       "      <td>South Africa</td>\n",
       "      <td>2021-09-24</td>\n",
       "      <td>2021</td>\n",
       "      <td>TV-MA</td>\n",
       "      <td>2 Seasons</td>\n",
       "      <td>International TV Shows, TV Dramas, TV Mysteries</td>\n",
       "      <td>After crossing paths at a party, a Cape Town t...</td>\n",
       "      <td>2021</td>\n",
       "      <td>9</td>\n",
       "      <td>Friday</td>\n",
       "    </tr>\n",
       "    <tr>\n",
       "      <th>2</th>\n",
       "      <td>TV Show</td>\n",
       "      <td>Ganglands</td>\n",
       "      <td>Julien Leclercq</td>\n",
       "      <td>Sami Bouajila, Tracy Gotoas, Samuel Jouy, Nabi...</td>\n",
       "      <td>United States</td>\n",
       "      <td>2021-09-24</td>\n",
       "      <td>2021</td>\n",
       "      <td>TV-MA</td>\n",
       "      <td>1 Season</td>\n",
       "      <td>Crime TV Shows, International TV Shows, TV Act...</td>\n",
       "      <td>To protect his family from a powerful drug lor...</td>\n",
       "      <td>2021</td>\n",
       "      <td>9</td>\n",
       "      <td>Friday</td>\n",
       "    </tr>\n",
       "    <tr>\n",
       "      <th>3</th>\n",
       "      <td>TV Show</td>\n",
       "      <td>Jailbirds New Orleans</td>\n",
       "      <td>NaN</td>\n",
       "      <td>NaN</td>\n",
       "      <td>United States</td>\n",
       "      <td>2021-09-24</td>\n",
       "      <td>2021</td>\n",
       "      <td>TV-MA</td>\n",
       "      <td>1 Season</td>\n",
       "      <td>Docuseries, Reality TV</td>\n",
       "      <td>Feuds, flirtations and toilet talk go down amo...</td>\n",
       "      <td>2021</td>\n",
       "      <td>9</td>\n",
       "      <td>Friday</td>\n",
       "    </tr>\n",
       "    <tr>\n",
       "      <th>4</th>\n",
       "      <td>TV Show</td>\n",
       "      <td>Kota Factory</td>\n",
       "      <td>NaN</td>\n",
       "      <td>Mayur More, Jitendra Kumar, Ranjan Raj, Alam K...</td>\n",
       "      <td>India</td>\n",
       "      <td>2021-09-24</td>\n",
       "      <td>2021</td>\n",
       "      <td>TV-MA</td>\n",
       "      <td>2 Seasons</td>\n",
       "      <td>International TV Shows, Romantic TV Shows, TV ...</td>\n",
       "      <td>In a city of coaching centers known to train I...</td>\n",
       "      <td>2021</td>\n",
       "      <td>9</td>\n",
       "      <td>Friday</td>\n",
       "    </tr>\n",
       "  </tbody>\n",
       "</table>\n",
       "</div>"
      ],
      "text/plain": [
       "      type                  title         director  \\\n",
       "0    Movie   Dick Johnson Is Dead  Kirsten Johnson   \n",
       "1  TV Show          Blood & Water              NaN   \n",
       "2  TV Show              Ganglands  Julien Leclercq   \n",
       "3  TV Show  Jailbirds New Orleans              NaN   \n",
       "4  TV Show           Kota Factory              NaN   \n",
       "\n",
       "                                                cast        country  \\\n",
       "0                                                NaN  United States   \n",
       "1  Ama Qamata, Khosi Ngema, Gail Mabalane, Thaban...   South Africa   \n",
       "2  Sami Bouajila, Tracy Gotoas, Samuel Jouy, Nabi...  United States   \n",
       "3                                                NaN  United States   \n",
       "4  Mayur More, Jitendra Kumar, Ranjan Raj, Alam K...          India   \n",
       "\n",
       "  date_added  release_year rating   duration  \\\n",
       "0 2021-09-25          2020  PG-13     90 min   \n",
       "1 2021-09-24          2021  TV-MA  2 Seasons   \n",
       "2 2021-09-24          2021  TV-MA   1 Season   \n",
       "3 2021-09-24          2021  TV-MA   1 Season   \n",
       "4 2021-09-24          2021  TV-MA  2 Seasons   \n",
       "\n",
       "                                               genre  \\\n",
       "0                                      Documentaries   \n",
       "1    International TV Shows, TV Dramas, TV Mysteries   \n",
       "2  Crime TV Shows, International TV Shows, TV Act...   \n",
       "3                             Docuseries, Reality TV   \n",
       "4  International TV Shows, Romantic TV Shows, TV ...   \n",
       "\n",
       "                                         description  year_added  month_added  \\\n",
       "0  As her father nears the end of his life, filmm...        2021            9   \n",
       "1  After crossing paths at a party, a Cape Town t...        2021            9   \n",
       "2  To protect his family from a powerful drug lor...        2021            9   \n",
       "3  Feuds, flirtations and toilet talk go down amo...        2021            9   \n",
       "4  In a city of coaching centers known to train I...        2021            9   \n",
       "\n",
       "  day_added  \n",
       "0  Saturday  \n",
       "1    Friday  \n",
       "2    Friday  \n",
       "3    Friday  \n",
       "4    Friday  "
      ]
     },
     "execution_count": 646,
     "metadata": {},
     "output_type": "execute_result"
    }
   ],
   "source": [
    "netflix_country=netflix.copy(deep=True)\n",
    "country_list= netflix.country.str.split(',')\n",
    "netflix_country.country = country_list\n",
    "netflix_country= netflix_country.explode(\"country\")\n",
    "netflix_country[\"country\"]= netflix_country[\"country\"].str.strip()\n",
    "netflix_country.head()"
   ]
  },
  {
   "cell_type": "code",
   "execution_count": 647,
   "id": "5f735a24",
   "metadata": {},
   "outputs": [],
   "source": [
    "df = pd.DataFrame(netflix_country[\"country\"].value_counts())\n",
    "countries = df.reset_index()\n",
    "countries.columns = [\"country name\", \"counts\"]\n",
    "countries.sort_values(\"counts\",ascending=False,inplace=True)"
   ]
  },
  {
   "cell_type": "code",
   "execution_count": 648,
   "id": "28d435c3",
   "metadata": {},
   "outputs": [
    {
     "data": {
      "text/html": [
       "<div>\n",
       "<style scoped>\n",
       "    .dataframe tbody tr th:only-of-type {\n",
       "        vertical-align: middle;\n",
       "    }\n",
       "\n",
       "    .dataframe tbody tr th {\n",
       "        vertical-align: top;\n",
       "    }\n",
       "\n",
       "    .dataframe thead th {\n",
       "        text-align: right;\n",
       "    }\n",
       "</style>\n",
       "<table border=\"1\" class=\"dataframe\">\n",
       "  <thead>\n",
       "    <tr style=\"text-align: right;\">\n",
       "      <th></th>\n",
       "      <th>country name</th>\n",
       "      <th>counts</th>\n",
       "    </tr>\n",
       "  </thead>\n",
       "  <tbody>\n",
       "    <tr>\n",
       "      <th>0</th>\n",
       "      <td>United States</td>\n",
       "      <td>4517</td>\n",
       "    </tr>\n",
       "    <tr>\n",
       "      <th>1</th>\n",
       "      <td>India</td>\n",
       "      <td>1046</td>\n",
       "    </tr>\n",
       "    <tr>\n",
       "      <th>2</th>\n",
       "      <td>United Kingdom</td>\n",
       "      <td>806</td>\n",
       "    </tr>\n",
       "    <tr>\n",
       "      <th>3</th>\n",
       "      <td>Canada</td>\n",
       "      <td>445</td>\n",
       "    </tr>\n",
       "    <tr>\n",
       "      <th>4</th>\n",
       "      <td>France</td>\n",
       "      <td>393</td>\n",
       "    </tr>\n",
       "    <tr>\n",
       "      <th>5</th>\n",
       "      <td>Japan</td>\n",
       "      <td>317</td>\n",
       "    </tr>\n",
       "    <tr>\n",
       "      <th>6</th>\n",
       "      <td>Spain</td>\n",
       "      <td>232</td>\n",
       "    </tr>\n",
       "    <tr>\n",
       "      <th>7</th>\n",
       "      <td>South Korea</td>\n",
       "      <td>231</td>\n",
       "    </tr>\n",
       "    <tr>\n",
       "      <th>8</th>\n",
       "      <td>Germany</td>\n",
       "      <td>226</td>\n",
       "    </tr>\n",
       "    <tr>\n",
       "      <th>9</th>\n",
       "      <td>Mexico</td>\n",
       "      <td>169</td>\n",
       "    </tr>\n",
       "  </tbody>\n",
       "</table>\n",
       "</div>"
      ],
      "text/plain": [
       "     country name  counts\n",
       "0   United States    4517\n",
       "1           India    1046\n",
       "2  United Kingdom     806\n",
       "3          Canada     445\n",
       "4          France     393\n",
       "5           Japan     317\n",
       "6           Spain     232\n",
       "7     South Korea     231\n",
       "8         Germany     226\n",
       "9          Mexico     169"
      ]
     },
     "execution_count": 648,
     "metadata": {},
     "output_type": "execute_result"
    }
   ],
   "source": [
    "countries[:10]"
   ]
  },
  {
   "cell_type": "code",
   "execution_count": 649,
   "id": "2bc0b1c9",
   "metadata": {},
   "outputs": [
    {
     "data": {
      "text/plain": [
       "[Text(0.5, 1.0, 'Top 10 countries based on number of shows/movies produced')]"
      ]
     },
     "execution_count": 649,
     "metadata": {},
     "output_type": "execute_result"
    },
    {
     "data": {
      "image/png": "[encoded data removed]",
      "text/plain": [
       "<Figure size 432x288 with 1 Axes>"
      ]
     },
     "metadata": {},
     "output_type": "display_data"
    }
   ],
   "source": [
    "sns.barplot(data=countries[:10],x=\"counts\",y=\"country name\").set(title=\"Top 10 countries based on number of shows/movies produced\")"
   ]
  },
  {
   "cell_type": "code",
   "execution_count": 650,
   "id": "52d37e6f",
   "metadata": {},
   "outputs": [
    {
     "data": {
      "text/plain": [
       "71"
      ]
     },
     "execution_count": 650,
     "metadata": {},
     "output_type": "execute_result"
    }
   ],
   "source": [
    "countries[countries[\"counts\"]<=10].shape[0]"
   ]
  },
  {
   "cell_type": "code",
   "execution_count": 651,
   "id": "a015858f",
   "metadata": {},
   "outputs": [
    {
     "data": {
      "text/plain": [
       "26"
      ]
     },
     "execution_count": 651,
     "metadata": {},
     "output_type": "execute_result"
    }
   ],
   "source": [
    "countries[(countries[\"counts\"]>10) & (countries[\"counts\"]<=50)].shape[0]"
   ]
  },
  {
   "cell_type": "code",
   "execution_count": 652,
   "id": "ae77443e",
   "metadata": {},
   "outputs": [
    {
     "data": {
      "text/plain": [
       "10"
      ]
     },
     "execution_count": 652,
     "metadata": {},
     "output_type": "execute_result"
    }
   ],
   "source": [
    "countries[(countries[\"counts\"]>50) & (countries[\"counts\"]<=100)].shape[0]"
   ]
  },
  {
   "cell_type": "code",
   "execution_count": 653,
   "id": "340eaada",
   "metadata": {},
   "outputs": [
    {
     "data": {
      "text/plain": [
       "16"
      ]
     },
     "execution_count": 653,
     "metadata": {},
     "output_type": "execute_result"
    }
   ],
   "source": [
    "countries[countries[\"counts\"]>100].shape[0]"
   ]
  },
  {
   "cell_type": "markdown",
   "id": "9c59895a",
   "metadata": {},
   "source": [
    "### Inference</br>\n",
    "- <b>Top 10 countries</b> considering highest number of movies/tv shows produced are <b>United States, India, United Kingdom, Canada, France, Japan, Spain, South Korea, Germany and Mexico.</b></br>\n",
    "- Number of movies/tv shows produced is <b>less than or equal to 10 in 71 countries.</b></br>\n",
    "- Number of movies/tv shows produced is <b>between (10,50] in 26 countries.</b></br>\n",
    "- Number of movies/tv shows produced is <b>between (50,100] in 10 countries.</b></br>\n",
    "- Number of movies/tv shows produced is <b>greater than 100 in 16 countries.</b>\n",
    "- 16 countries contribute the most in production of content, these countries should be focused on to maintain the number of movies/TV shows produced.\n",
    "- The countries where less content is produced can be a topic of further research to get idea of the untapped potential and make the most of it."
   ]
  },
  {
   "cell_type": "code",
   "execution_count": 654,
   "id": "9a2d371e",
   "metadata": {},
   "outputs": [
    {
     "data": {
      "text/html": [
       "<div>\n",
       "<style scoped>\n",
       "    .dataframe tbody tr th:only-of-type {\n",
       "        vertical-align: middle;\n",
       "    }\n",
       "\n",
       "    .dataframe tbody tr th {\n",
       "        vertical-align: top;\n",
       "    }\n",
       "\n",
       "    .dataframe thead th {\n",
       "        text-align: right;\n",
       "    }\n",
       "</style>\n",
       "<table border=\"1\" class=\"dataframe\">\n",
       "  <thead>\n",
       "    <tr style=\"text-align: right;\">\n",
       "      <th></th>\n",
       "      <th>type</th>\n",
       "      <th>title</th>\n",
       "      <th>director</th>\n",
       "      <th>cast</th>\n",
       "      <th>country</th>\n",
       "      <th>date_added</th>\n",
       "      <th>release_year</th>\n",
       "      <th>rating</th>\n",
       "      <th>duration</th>\n",
       "      <th>genre</th>\n",
       "      <th>description</th>\n",
       "      <th>year_added</th>\n",
       "      <th>month_added</th>\n",
       "      <th>day_added</th>\n",
       "    </tr>\n",
       "  </thead>\n",
       "  <tbody>\n",
       "    <tr>\n",
       "      <th>0</th>\n",
       "      <td>Movie</td>\n",
       "      <td>Dick Johnson Is Dead</td>\n",
       "      <td>Kirsten Johnson</td>\n",
       "      <td>NaN</td>\n",
       "      <td>United States</td>\n",
       "      <td>2021-09-25</td>\n",
       "      <td>2020</td>\n",
       "      <td>PG-13</td>\n",
       "      <td>90 min</td>\n",
       "      <td>Documentaries</td>\n",
       "      <td>As her father nears the end of his life, filmm...</td>\n",
       "      <td>2021</td>\n",
       "      <td>9</td>\n",
       "      <td>Saturday</td>\n",
       "    </tr>\n",
       "    <tr>\n",
       "      <th>2</th>\n",
       "      <td>TV Show</td>\n",
       "      <td>Ganglands</td>\n",
       "      <td>Julien Leclercq</td>\n",
       "      <td>Sami Bouajila, Tracy Gotoas, Samuel Jouy, Nabi...</td>\n",
       "      <td>United States</td>\n",
       "      <td>2021-09-24</td>\n",
       "      <td>2021</td>\n",
       "      <td>TV-MA</td>\n",
       "      <td>1 Season</td>\n",
       "      <td>Crime TV Shows, International TV Shows, TV Act...</td>\n",
       "      <td>To protect his family from a powerful drug lor...</td>\n",
       "      <td>2021</td>\n",
       "      <td>9</td>\n",
       "      <td>Friday</td>\n",
       "    </tr>\n",
       "    <tr>\n",
       "      <th>3</th>\n",
       "      <td>TV Show</td>\n",
       "      <td>Jailbirds New Orleans</td>\n",
       "      <td>NaN</td>\n",
       "      <td>NaN</td>\n",
       "      <td>United States</td>\n",
       "      <td>2021-09-24</td>\n",
       "      <td>2021</td>\n",
       "      <td>TV-MA</td>\n",
       "      <td>1 Season</td>\n",
       "      <td>Docuseries, Reality TV</td>\n",
       "      <td>Feuds, flirtations and toilet talk go down amo...</td>\n",
       "      <td>2021</td>\n",
       "      <td>9</td>\n",
       "      <td>Friday</td>\n",
       "    </tr>\n",
       "    <tr>\n",
       "      <th>4</th>\n",
       "      <td>TV Show</td>\n",
       "      <td>Kota Factory</td>\n",
       "      <td>NaN</td>\n",
       "      <td>Mayur More, Jitendra Kumar, Ranjan Raj, Alam K...</td>\n",
       "      <td>India</td>\n",
       "      <td>2021-09-24</td>\n",
       "      <td>2021</td>\n",
       "      <td>TV-MA</td>\n",
       "      <td>2 Seasons</td>\n",
       "      <td>International TV Shows, Romantic TV Shows, TV ...</td>\n",
       "      <td>In a city of coaching centers known to train I...</td>\n",
       "      <td>2021</td>\n",
       "      <td>9</td>\n",
       "      <td>Friday</td>\n",
       "    </tr>\n",
       "    <tr>\n",
       "      <th>5</th>\n",
       "      <td>TV Show</td>\n",
       "      <td>Midnight Mass</td>\n",
       "      <td>Mike Flanagan</td>\n",
       "      <td>Kate Siegel, Zach Gilford, Hamish Linklater, H...</td>\n",
       "      <td>United States</td>\n",
       "      <td>2021-09-24</td>\n",
       "      <td>2021</td>\n",
       "      <td>TV-MA</td>\n",
       "      <td>1 Season</td>\n",
       "      <td>TV Dramas, TV Horror, TV Mysteries</td>\n",
       "      <td>The arrival of a charismatic young priest brin...</td>\n",
       "      <td>2021</td>\n",
       "      <td>9</td>\n",
       "      <td>Friday</td>\n",
       "    </tr>\n",
       "  </tbody>\n",
       "</table>\n",
       "</div>"
      ],
      "text/plain": [
       "      type                  title         director  \\\n",
       "0    Movie   Dick Johnson Is Dead  Kirsten Johnson   \n",
       "2  TV Show              Ganglands  Julien Leclercq   \n",
       "3  TV Show  Jailbirds New Orleans              NaN   \n",
       "4  TV Show           Kota Factory              NaN   \n",
       "5  TV Show          Midnight Mass    Mike Flanagan   \n",
       "\n",
       "                                                cast        country  \\\n",
       "0                                                NaN  United States   \n",
       "2  Sami Bouajila, Tracy Gotoas, Samuel Jouy, Nabi...  United States   \n",
       "3                                                NaN  United States   \n",
       "4  Mayur More, Jitendra Kumar, Ranjan Raj, Alam K...          India   \n",
       "5  Kate Siegel, Zach Gilford, Hamish Linklater, H...  United States   \n",
       "\n",
       "  date_added  release_year rating   duration  \\\n",
       "0 2021-09-25          2020  PG-13     90 min   \n",
       "2 2021-09-24          2021  TV-MA   1 Season   \n",
       "3 2021-09-24          2021  TV-MA   1 Season   \n",
       "4 2021-09-24          2021  TV-MA  2 Seasons   \n",
       "5 2021-09-24          2021  TV-MA   1 Season   \n",
       "\n",
       "                                               genre  \\\n",
       "0                                      Documentaries   \n",
       "2  Crime TV Shows, International TV Shows, TV Act...   \n",
       "3                             Docuseries, Reality TV   \n",
       "4  International TV Shows, Romantic TV Shows, TV ...   \n",
       "5                 TV Dramas, TV Horror, TV Mysteries   \n",
       "\n",
       "                                         description  year_added  month_added  \\\n",
       "0  As her father nears the end of his life, filmm...        2021            9   \n",
       "2  To protect his family from a powerful drug lor...        2021            9   \n",
       "3  Feuds, flirtations and toilet talk go down amo...        2021            9   \n",
       "4  In a city of coaching centers known to train I...        2021            9   \n",
       "5  The arrival of a charismatic young priest brin...        2021            9   \n",
       "\n",
       "  day_added  \n",
       "0  Saturday  \n",
       "2    Friday  \n",
       "3    Friday  \n",
       "4    Friday  \n",
       "5    Friday  "
      ]
     },
     "execution_count": 654,
     "metadata": {},
     "output_type": "execute_result"
    }
   ],
   "source": [
    "countries_list=['United States','India','Canada','France','United Kingdom','Japan','Spain','South Korea','Germany','Mexico']\n",
    "top_countries=netflix_country[netflix_country[\"country\"].isin(countries_list)]\n",
    "top_countries.head()"
   ]
  },
  {
   "cell_type": "code",
   "execution_count": 655,
   "id": "0ceb3114",
   "metadata": {},
   "outputs": [
    {
     "data": {
      "text/html": [
       "<div>\n",
       "<style scoped>\n",
       "    .dataframe tbody tr th:only-of-type {\n",
       "        vertical-align: middle;\n",
       "    }\n",
       "\n",
       "    .dataframe tbody tr th {\n",
       "        vertical-align: top;\n",
       "    }\n",
       "\n",
       "    .dataframe thead th {\n",
       "        text-align: right;\n",
       "    }\n",
       "</style>\n",
       "<table border=\"1\" class=\"dataframe\">\n",
       "  <thead>\n",
       "    <tr style=\"text-align: right;\">\n",
       "      <th></th>\n",
       "      <th></th>\n",
       "      <th>type</th>\n",
       "    </tr>\n",
       "    <tr>\n",
       "      <th>country</th>\n",
       "      <th>type</th>\n",
       "      <th></th>\n",
       "    </tr>\n",
       "  </thead>\n",
       "  <tbody>\n",
       "    <tr>\n",
       "      <th rowspan=\"2\" valign=\"top\">Canada</th>\n",
       "      <th>Movie</th>\n",
       "      <td>319</td>\n",
       "    </tr>\n",
       "    <tr>\n",
       "      <th>TV Show</th>\n",
       "      <td>126</td>\n",
       "    </tr>\n",
       "    <tr>\n",
       "      <th rowspan=\"2\" valign=\"top\">France</th>\n",
       "      <th>Movie</th>\n",
       "      <td>303</td>\n",
       "    </tr>\n",
       "    <tr>\n",
       "      <th>TV Show</th>\n",
       "      <td>90</td>\n",
       "    </tr>\n",
       "    <tr>\n",
       "      <th rowspan=\"2\" valign=\"top\">Germany</th>\n",
       "      <th>Movie</th>\n",
       "      <td>182</td>\n",
       "    </tr>\n",
       "    <tr>\n",
       "      <th>TV Show</th>\n",
       "      <td>44</td>\n",
       "    </tr>\n",
       "    <tr>\n",
       "      <th rowspan=\"2\" valign=\"top\">India</th>\n",
       "      <th>Movie</th>\n",
       "      <td>962</td>\n",
       "    </tr>\n",
       "    <tr>\n",
       "      <th>TV Show</th>\n",
       "      <td>84</td>\n",
       "    </tr>\n",
       "    <tr>\n",
       "      <th rowspan=\"2\" valign=\"top\">Japan</th>\n",
       "      <th>TV Show</th>\n",
       "      <td>198</td>\n",
       "    </tr>\n",
       "    <tr>\n",
       "      <th>Movie</th>\n",
       "      <td>119</td>\n",
       "    </tr>\n",
       "    <tr>\n",
       "      <th rowspan=\"2\" valign=\"top\">Mexico</th>\n",
       "      <th>Movie</th>\n",
       "      <td>111</td>\n",
       "    </tr>\n",
       "    <tr>\n",
       "      <th>TV Show</th>\n",
       "      <td>58</td>\n",
       "    </tr>\n",
       "    <tr>\n",
       "      <th rowspan=\"2\" valign=\"top\">South Korea</th>\n",
       "      <th>TV Show</th>\n",
       "      <td>170</td>\n",
       "    </tr>\n",
       "    <tr>\n",
       "      <th>Movie</th>\n",
       "      <td>61</td>\n",
       "    </tr>\n",
       "    <tr>\n",
       "      <th rowspan=\"2\" valign=\"top\">Spain</th>\n",
       "      <th>Movie</th>\n",
       "      <td>171</td>\n",
       "    </tr>\n",
       "    <tr>\n",
       "      <th>TV Show</th>\n",
       "      <td>61</td>\n",
       "    </tr>\n",
       "    <tr>\n",
       "      <th rowspan=\"2\" valign=\"top\">United Kingdom</th>\n",
       "      <th>Movie</th>\n",
       "      <td>534</td>\n",
       "    </tr>\n",
       "    <tr>\n",
       "      <th>TV Show</th>\n",
       "      <td>272</td>\n",
       "    </tr>\n",
       "    <tr>\n",
       "      <th rowspan=\"2\" valign=\"top\">United States</th>\n",
       "      <th>Movie</th>\n",
       "      <td>3188</td>\n",
       "    </tr>\n",
       "    <tr>\n",
       "      <th>TV Show</th>\n",
       "      <td>1329</td>\n",
       "    </tr>\n",
       "  </tbody>\n",
       "</table>\n",
       "</div>"
      ],
      "text/plain": [
       "                        type\n",
       "country        type         \n",
       "Canada         Movie     319\n",
       "               TV Show   126\n",
       "France         Movie     303\n",
       "               TV Show    90\n",
       "Germany        Movie     182\n",
       "               TV Show    44\n",
       "India          Movie     962\n",
       "               TV Show    84\n",
       "Japan          TV Show   198\n",
       "               Movie     119\n",
       "Mexico         Movie     111\n",
       "               TV Show    58\n",
       "South Korea    TV Show   170\n",
       "               Movie      61\n",
       "Spain          Movie     171\n",
       "               TV Show    61\n",
       "United Kingdom Movie     534\n",
       "               TV Show   272\n",
       "United States  Movie    3188\n",
       "               TV Show  1329"
      ]
     },
     "metadata": {},
     "output_type": "display_data"
    },
    {
     "data": {
      "text/plain": [
       "[Text(0.5, 1.0, 'Distribution of movies and TV shows produced in the top 10 countries')]"
      ]
     },
     "execution_count": 655,
     "metadata": {},
     "output_type": "execute_result"
    },
    {
     "data": {
      "image/png": "[encoded data removed]",
      "text/plain": [
       "<Figure size 864x576 with 1 Axes>"
      ]
     },
     "metadata": {},
     "output_type": "display_data"
    }
   ],
   "source": [
    "display(top_countries.groupby(\"country\")[\"type\"].value_counts().to_frame())\n",
    "plt.figure(figsize=(12,8))\n",
    "sns.countplot(x=\"country\",hue=\"type\",data=top_countries).set(title=\"Distribution of movies and TV shows produced in the top 10 countries\")"
   ]
  },
  {
   "cell_type": "markdown",
   "id": "0d8c5731",
   "metadata": {},
   "source": [
    "### Inference<br>\n",
    "- Number of <b>TV shows produced is higher than number of movies produced in Japan and South Korea unlike other countries</b> where number of movies produced is higher.\n",
    "- The <b>gap between movies and shows produced seems to be more than 50%</b> in the countries <b>except Mexico and Japan.</b>\n",
    "- There is scope to increase number of TV shows produced in India, Germany, Mexico, France and Spain.\n",
    "- More movies can be produced in South Korea, Japan, Mexico.\n",
    "- More country specific data and analysis can be used to plan strategy in every country."
   ]
  },
  {
   "cell_type": "code",
   "execution_count": 656,
   "id": "52942d9a",
   "metadata": {},
   "outputs": [
    {
     "data": {
      "text/html": [
       "<div>\n",
       "<style scoped>\n",
       "    .dataframe tbody tr th:only-of-type {\n",
       "        vertical-align: middle;\n",
       "    }\n",
       "\n",
       "    .dataframe tbody tr th {\n",
       "        vertical-align: top;\n",
       "    }\n",
       "\n",
       "    .dataframe thead th {\n",
       "        text-align: right;\n",
       "    }\n",
       "</style>\n",
       "<table border=\"1\" class=\"dataframe\">\n",
       "  <thead>\n",
       "    <tr style=\"text-align: right;\">\n",
       "      <th></th>\n",
       "      <th>type</th>\n",
       "      <th>title</th>\n",
       "      <th>director</th>\n",
       "      <th>cast</th>\n",
       "      <th>country</th>\n",
       "      <th>date_added</th>\n",
       "      <th>release_year</th>\n",
       "      <th>rating</th>\n",
       "      <th>duration</th>\n",
       "      <th>description</th>\n",
       "      <th>year_added</th>\n",
       "      <th>month_added</th>\n",
       "      <th>day_added</th>\n",
       "      <th>genre</th>\n",
       "    </tr>\n",
       "  </thead>\n",
       "  <tbody>\n",
       "    <tr>\n",
       "      <th>0</th>\n",
       "      <td>Movie</td>\n",
       "      <td>Dick Johnson Is Dead</td>\n",
       "      <td>Kirsten Johnson</td>\n",
       "      <td>NaN</td>\n",
       "      <td>United States</td>\n",
       "      <td>2021-09-25</td>\n",
       "      <td>2020</td>\n",
       "      <td>PG-13</td>\n",
       "      <td>90 min</td>\n",
       "      <td>As her father nears the end of his life, filmm...</td>\n",
       "      <td>2021</td>\n",
       "      <td>9</td>\n",
       "      <td>Saturday</td>\n",
       "      <td>Documentaries</td>\n",
       "    </tr>\n",
       "    <tr>\n",
       "      <th>1</th>\n",
       "      <td>TV Show</td>\n",
       "      <td>Blood &amp; Water</td>\n",
       "      <td>NaN</td>\n",
       "      <td>Ama Qamata, Khosi Ngema, Gail Mabalane, Thaban...</td>\n",
       "      <td>South Africa</td>\n",
       "      <td>2021-09-24</td>\n",
       "      <td>2021</td>\n",
       "      <td>TV-MA</td>\n",
       "      <td>2 Seasons</td>\n",
       "      <td>After crossing paths at a party, a Cape Town t...</td>\n",
       "      <td>2021</td>\n",
       "      <td>9</td>\n",
       "      <td>Friday</td>\n",
       "      <td>International TV Shows</td>\n",
       "    </tr>\n",
       "    <tr>\n",
       "      <th>2</th>\n",
       "      <td>TV Show</td>\n",
       "      <td>Blood &amp; Water</td>\n",
       "      <td>NaN</td>\n",
       "      <td>Ama Qamata, Khosi Ngema, Gail Mabalane, Thaban...</td>\n",
       "      <td>South Africa</td>\n",
       "      <td>2021-09-24</td>\n",
       "      <td>2021</td>\n",
       "      <td>TV-MA</td>\n",
       "      <td>2 Seasons</td>\n",
       "      <td>After crossing paths at a party, a Cape Town t...</td>\n",
       "      <td>2021</td>\n",
       "      <td>9</td>\n",
       "      <td>Friday</td>\n",
       "      <td>TV Dramas</td>\n",
       "    </tr>\n",
       "    <tr>\n",
       "      <th>3</th>\n",
       "      <td>TV Show</td>\n",
       "      <td>Blood &amp; Water</td>\n",
       "      <td>NaN</td>\n",
       "      <td>Ama Qamata, Khosi Ngema, Gail Mabalane, Thaban...</td>\n",
       "      <td>South Africa</td>\n",
       "      <td>2021-09-24</td>\n",
       "      <td>2021</td>\n",
       "      <td>TV-MA</td>\n",
       "      <td>2 Seasons</td>\n",
       "      <td>After crossing paths at a party, a Cape Town t...</td>\n",
       "      <td>2021</td>\n",
       "      <td>9</td>\n",
       "      <td>Friday</td>\n",
       "      <td>TV Mysteries</td>\n",
       "    </tr>\n",
       "    <tr>\n",
       "      <th>4</th>\n",
       "      <td>TV Show</td>\n",
       "      <td>Ganglands</td>\n",
       "      <td>Julien Leclercq</td>\n",
       "      <td>Sami Bouajila, Tracy Gotoas, Samuel Jouy, Nabi...</td>\n",
       "      <td>United States</td>\n",
       "      <td>2021-09-24</td>\n",
       "      <td>2021</td>\n",
       "      <td>TV-MA</td>\n",
       "      <td>1 Season</td>\n",
       "      <td>To protect his family from a powerful drug lor...</td>\n",
       "      <td>2021</td>\n",
       "      <td>9</td>\n",
       "      <td>Friday</td>\n",
       "      <td>Crime TV Shows</td>\n",
       "    </tr>\n",
       "  </tbody>\n",
       "</table>\n",
       "</div>"
      ],
      "text/plain": [
       "      type                 title         director  \\\n",
       "0    Movie  Dick Johnson Is Dead  Kirsten Johnson   \n",
       "1  TV Show         Blood & Water              NaN   \n",
       "2  TV Show         Blood & Water              NaN   \n",
       "3  TV Show         Blood & Water              NaN   \n",
       "4  TV Show             Ganglands  Julien Leclercq   \n",
       "\n",
       "                                                cast        country  \\\n",
       "0                                                NaN  United States   \n",
       "1  Ama Qamata, Khosi Ngema, Gail Mabalane, Thaban...   South Africa   \n",
       "2  Ama Qamata, Khosi Ngema, Gail Mabalane, Thaban...   South Africa   \n",
       "3  Ama Qamata, Khosi Ngema, Gail Mabalane, Thaban...   South Africa   \n",
       "4  Sami Bouajila, Tracy Gotoas, Samuel Jouy, Nabi...  United States   \n",
       "\n",
       "  date_added  release_year rating   duration  \\\n",
       "0 2021-09-25          2020  PG-13     90 min   \n",
       "1 2021-09-24          2021  TV-MA  2 Seasons   \n",
       "2 2021-09-24          2021  TV-MA  2 Seasons   \n",
       "3 2021-09-24          2021  TV-MA  2 Seasons   \n",
       "4 2021-09-24          2021  TV-MA   1 Season   \n",
       "\n",
       "                                         description  year_added  month_added  \\\n",
       "0  As her father nears the end of his life, filmm...        2021            9   \n",
       "1  After crossing paths at a party, a Cape Town t...        2021            9   \n",
       "2  After crossing paths at a party, a Cape Town t...        2021            9   \n",
       "3  After crossing paths at a party, a Cape Town t...        2021            9   \n",
       "4  To protect his family from a powerful drug lor...        2021            9   \n",
       "\n",
       "  day_added                   genre  \n",
       "0  Saturday           Documentaries  \n",
       "1    Friday  International TV Shows  \n",
       "2    Friday               TV Dramas  \n",
       "3    Friday            TV Mysteries  \n",
       "4    Friday          Crime TV Shows  "
      ]
     },
     "execution_count": 656,
     "metadata": {},
     "output_type": "execute_result"
    }
   ],
   "source": [
    "constraint=netflix['genre'].apply(lambda x: str(x).split(',')).tolist()\n",
    "df_new=pd.DataFrame(constraint,index=netflix['title'])\n",
    "df_new=df_new.stack()\n",
    "df_new=pd.DataFrame(df_new)\n",
    "df_new.reset_index(inplace=True)\n",
    "df_new=df_new[['title',0]]\n",
    "df_new.columns=['title','genre']\n",
    "df_new['genre']= df_new['genre'].str.strip()\n",
    "nf_genre=netflix.merge(df_new, on='title', how='inner')\n",
    "nf_genre=nf_genre.drop('genre_x',axis=1)\n",
    "nf_genre.rename(columns={\"genre_y\":\"genre\"},inplace=True)\n",
    "nf_genre.head()"
   ]
  },
  {
   "cell_type": "code",
   "execution_count": 657,
   "id": "ab812e06",
   "metadata": {},
   "outputs": [
    {
     "data": {
      "text/html": [
       "<div>\n",
       "<style scoped>\n",
       "    .dataframe tbody tr th:only-of-type {\n",
       "        vertical-align: middle;\n",
       "    }\n",
       "\n",
       "    .dataframe tbody tr th {\n",
       "        vertical-align: top;\n",
       "    }\n",
       "\n",
       "    .dataframe thead th {\n",
       "        text-align: right;\n",
       "    }\n",
       "</style>\n",
       "<table border=\"1\" class=\"dataframe\">\n",
       "  <thead>\n",
       "    <tr style=\"text-align: right;\">\n",
       "      <th></th>\n",
       "      <th>genre</th>\n",
       "      <th>count</th>\n",
       "    </tr>\n",
       "  </thead>\n",
       "  <tbody>\n",
       "    <tr>\n",
       "      <th>0</th>\n",
       "      <td>International Movies</td>\n",
       "      <td>2752</td>\n",
       "    </tr>\n",
       "    <tr>\n",
       "      <th>1</th>\n",
       "      <td>Dramas</td>\n",
       "      <td>2426</td>\n",
       "    </tr>\n",
       "    <tr>\n",
       "      <th>2</th>\n",
       "      <td>Comedies</td>\n",
       "      <td>1674</td>\n",
       "    </tr>\n",
       "    <tr>\n",
       "      <th>3</th>\n",
       "      <td>International TV Shows</td>\n",
       "      <td>1350</td>\n",
       "    </tr>\n",
       "    <tr>\n",
       "      <th>4</th>\n",
       "      <td>Documentaries</td>\n",
       "      <td>869</td>\n",
       "    </tr>\n",
       "    <tr>\n",
       "      <th>5</th>\n",
       "      <td>Action &amp; Adventure</td>\n",
       "      <td>859</td>\n",
       "    </tr>\n",
       "    <tr>\n",
       "      <th>6</th>\n",
       "      <td>TV Dramas</td>\n",
       "      <td>763</td>\n",
       "    </tr>\n",
       "    <tr>\n",
       "      <th>7</th>\n",
       "      <td>Independent Movies</td>\n",
       "      <td>756</td>\n",
       "    </tr>\n",
       "    <tr>\n",
       "      <th>8</th>\n",
       "      <td>Children &amp; Family Movies</td>\n",
       "      <td>641</td>\n",
       "    </tr>\n",
       "    <tr>\n",
       "      <th>9</th>\n",
       "      <td>Romantic Movies</td>\n",
       "      <td>616</td>\n",
       "    </tr>\n",
       "    <tr>\n",
       "      <th>10</th>\n",
       "      <td>TV Comedies</td>\n",
       "      <td>580</td>\n",
       "    </tr>\n",
       "    <tr>\n",
       "      <th>11</th>\n",
       "      <td>Thrillers</td>\n",
       "      <td>577</td>\n",
       "    </tr>\n",
       "    <tr>\n",
       "      <th>12</th>\n",
       "      <td>Crime TV Shows</td>\n",
       "      <td>470</td>\n",
       "    </tr>\n",
       "    <tr>\n",
       "      <th>13</th>\n",
       "      <td>Kids' TV</td>\n",
       "      <td>450</td>\n",
       "    </tr>\n",
       "    <tr>\n",
       "      <th>14</th>\n",
       "      <td>Docuseries</td>\n",
       "      <td>395</td>\n",
       "    </tr>\n",
       "    <tr>\n",
       "      <th>15</th>\n",
       "      <td>Music &amp; Musicals</td>\n",
       "      <td>375</td>\n",
       "    </tr>\n",
       "    <tr>\n",
       "      <th>16</th>\n",
       "      <td>Romantic TV Shows</td>\n",
       "      <td>370</td>\n",
       "    </tr>\n",
       "    <tr>\n",
       "      <th>17</th>\n",
       "      <td>Horror Movies</td>\n",
       "      <td>357</td>\n",
       "    </tr>\n",
       "    <tr>\n",
       "      <th>18</th>\n",
       "      <td>Stand-Up Comedy</td>\n",
       "      <td>343</td>\n",
       "    </tr>\n",
       "    <tr>\n",
       "      <th>19</th>\n",
       "      <td>Reality TV</td>\n",
       "      <td>255</td>\n",
       "    </tr>\n",
       "  </tbody>\n",
       "</table>\n",
       "</div>"
      ],
      "text/plain": [
       "                       genre  count\n",
       "0       International Movies   2752\n",
       "1                     Dramas   2426\n",
       "2                   Comedies   1674\n",
       "3     International TV Shows   1350\n",
       "4              Documentaries    869\n",
       "5         Action & Adventure    859\n",
       "6                  TV Dramas    763\n",
       "7         Independent Movies    756\n",
       "8   Children & Family Movies    641\n",
       "9            Romantic Movies    616\n",
       "10               TV Comedies    580\n",
       "11                 Thrillers    577\n",
       "12            Crime TV Shows    470\n",
       "13                  Kids' TV    450\n",
       "14                Docuseries    395\n",
       "15          Music & Musicals    375\n",
       "16         Romantic TV Shows    370\n",
       "17             Horror Movies    357\n",
       "18           Stand-Up Comedy    343\n",
       "19                Reality TV    255"
      ]
     },
     "execution_count": 657,
     "metadata": {},
     "output_type": "execute_result"
    }
   ],
   "source": [
    "top_genres=nf_genre['genre'].value_counts()[:20].to_frame()\n",
    "top_genres.reset_index(inplace=True)\n",
    "top_genres.columns=['genre','count']\n",
    "top_genres"
   ]
  },
  {
   "cell_type": "code",
   "execution_count": 658,
   "id": "218d0348",
   "metadata": {},
   "outputs": [
    {
     "data": {
      "text/plain": [
       "[Text(0.5, 1.0, 'Top 20 genres based on popularity')]"
      ]
     },
     "execution_count": 658,
     "metadata": {},
     "output_type": "execute_result"
    },
    {
     "data": {
      "image/png": "[encoded data removed]",
      "text/plain": [
       "<Figure size 864x576 with 1 Axes>"
      ]
     },
     "metadata": {},
     "output_type": "display_data"
    }
   ],
   "source": [
    "plt.figure(figsize=(12,8))\n",
    "sns.barplot(x='count',y='genre',data=top_genres).set(title=\"Top 20 genres based on popularity\")"
   ]
  },
  {
   "cell_type": "markdown",
   "id": "5cc24e4c",
   "metadata": {},
   "source": [
    "### Inference<br>\n",
    "- 4 most popular genres are <b>\"International movies\", \"Dramas\", \"Comedies\" and \"International TV shows\".</b>\n",
    "- <b>\"Documentaries\", \"Action & Adventure\", \"TV Dramas\", \"Independent Movies\"</b> are next 4 popular genres followed by <b>\"Children & Family movies\", \"Romantic movies\", \"TV comedies\", and \"Thrillers\".</b>  \n",
    "- Strategy should be planned to attract and encourage creators of the popular genres to add their content on Netflix. "
   ]
  },
  {
   "cell_type": "code",
   "execution_count": 659,
   "id": "cc39aa7b",
   "metadata": {},
   "outputs": [
    {
     "data": {
      "text/plain": [
       "Friday       2303\n",
       "Tuesday      2065\n",
       "Thursday     1210\n",
       "Wednesday    1080\n",
       "Monday        756\n",
       "Saturday      738\n",
       "Sunday        648\n",
       "Name: day_added, dtype: int64"
      ]
     },
     "execution_count": 659,
     "metadata": {},
     "output_type": "execute_result"
    }
   ],
   "source": [
    "netflix[\"day_added\"].value_counts()"
   ]
  },
  {
   "cell_type": "code",
   "execution_count": 660,
   "id": "e4ba5297",
   "metadata": {},
   "outputs": [
    {
     "data": {
      "text/plain": [
       "<AxesSubplot:xlabel='day_added', ylabel='count'>"
      ]
     },
     "execution_count": 660,
     "metadata": {},
     "output_type": "execute_result"
    },
    {
     "data": {
      "image/png": "[encoded data removed]",
      "text/plain": [
       "<Figure size 864x576 with 1 Axes>"
      ]
     },
     "metadata": {},
     "output_type": "display_data"
    }
   ],
   "source": [
    "plt.figure(figsize=(12,8))\n",
    "sns.countplot(x='day_added',hue='type',data=netflix,palette=[\"#6E8B3D\",\"#BCEE68\"],order=netflix['day_added'].value_counts().index)"
   ]
  },
  {
   "cell_type": "markdown",
   "id": "99c18276",
   "metadata": {},
   "source": [
    "### Inference<br>\n",
    "- Most of the content on Netflix is added on Tuesdays and Fridays.\n",
    "- Least contetnt is added on weekends i.e. Saturday and Sunday.\n",
    "- More content should be added on weekends."
   ]
  },
  {
   "cell_type": "code",
   "execution_count": 661,
   "id": "dca8978a",
   "metadata": {},
   "outputs": [
    {
     "data": {
      "text/html": [
       "<div>\n",
       "<style scoped>\n",
       "    .dataframe tbody tr th:only-of-type {\n",
       "        vertical-align: middle;\n",
       "    }\n",
       "\n",
       "    .dataframe tbody tr th {\n",
       "        vertical-align: top;\n",
       "    }\n",
       "\n",
       "    .dataframe thead th {\n",
       "        text-align: right;\n",
       "    }\n",
       "</style>\n",
       "<table border=\"1\" class=\"dataframe\">\n",
       "  <thead>\n",
       "    <tr style=\"text-align: right;\">\n",
       "      <th></th>\n",
       "      <th>year_added</th>\n",
       "      <th>count</th>\n",
       "    </tr>\n",
       "  </thead>\n",
       "  <tbody>\n",
       "    <tr>\n",
       "      <th>0</th>\n",
       "      <td>2019</td>\n",
       "      <td>1737</td>\n",
       "    </tr>\n",
       "    <tr>\n",
       "      <th>1</th>\n",
       "      <td>2020</td>\n",
       "      <td>1658</td>\n",
       "    </tr>\n",
       "    <tr>\n",
       "      <th>2</th>\n",
       "      <td>2018</td>\n",
       "      <td>1470</td>\n",
       "    </tr>\n",
       "    <tr>\n",
       "      <th>3</th>\n",
       "      <td>2021</td>\n",
       "      <td>1287</td>\n",
       "    </tr>\n",
       "    <tr>\n",
       "      <th>4</th>\n",
       "      <td>2017</td>\n",
       "      <td>1093</td>\n",
       "    </tr>\n",
       "    <tr>\n",
       "      <th>5</th>\n",
       "      <td>2008</td>\n",
       "      <td>1047</td>\n",
       "    </tr>\n",
       "    <tr>\n",
       "      <th>6</th>\n",
       "      <td>2016</td>\n",
       "      <td>390</td>\n",
       "    </tr>\n",
       "    <tr>\n",
       "      <th>7</th>\n",
       "      <td>2015</td>\n",
       "      <td>78</td>\n",
       "    </tr>\n",
       "    <tr>\n",
       "      <th>8</th>\n",
       "      <td>2014</td>\n",
       "      <td>22</td>\n",
       "    </tr>\n",
       "    <tr>\n",
       "      <th>9</th>\n",
       "      <td>2013</td>\n",
       "      <td>11</td>\n",
       "    </tr>\n",
       "    <tr>\n",
       "      <th>10</th>\n",
       "      <td>2012</td>\n",
       "      <td>3</td>\n",
       "    </tr>\n",
       "    <tr>\n",
       "      <th>11</th>\n",
       "      <td>2011</td>\n",
       "      <td>2</td>\n",
       "    </tr>\n",
       "    <tr>\n",
       "      <th>12</th>\n",
       "      <td>2009</td>\n",
       "      <td>2</td>\n",
       "    </tr>\n",
       "  </tbody>\n",
       "</table>\n",
       "</div>"
      ],
      "text/plain": [
       "    year_added  count\n",
       "0         2019   1737\n",
       "1         2020   1658\n",
       "2         2018   1470\n",
       "3         2021   1287\n",
       "4         2017   1093\n",
       "5         2008   1047\n",
       "6         2016    390\n",
       "7         2015     78\n",
       "8         2014     22\n",
       "9         2013     11\n",
       "10        2012      3\n",
       "11        2011      2\n",
       "12        2009      2"
      ]
     },
     "metadata": {},
     "output_type": "display_data"
    },
    {
     "data": {
      "text/plain": [
       "<AxesSubplot:xlabel='year_added', ylabel='count'>"
      ]
     },
     "execution_count": 661,
     "metadata": {},
     "output_type": "execute_result"
    },
    {
     "data": {
      "image/png": "[encoded data removed]",
      "text/plain": [
       "<Figure size 864x576 with 1 Axes>"
      ]
     },
     "metadata": {},
     "output_type": "display_data"
    }
   ],
   "source": [
    "year_data=netflix[\"year_added\"].value_counts().to_frame()\n",
    "year_data.reset_index(inplace=True)\n",
    "year_data.columns=[\"year_added\",\"count\"]\n",
    "display(year_data)\n",
    "plt.figure(figsize=(12,8))\n",
    "sns.countplot(x='year_added',hue='type',data=netflix,palette='pastel')"
   ]
  },
  {
   "cell_type": "code",
   "execution_count": 662,
   "id": "749db007",
   "metadata": {},
   "outputs": [
    {
     "data": {
      "text/plain": [
       "1449.0"
      ]
     },
     "execution_count": 662,
     "metadata": {},
     "output_type": "execute_result"
    }
   ],
   "source": [
    "year_data[\"count\"].iloc[[0,1,2,3,4]].mean(axis=0)"
   ]
  },
  {
   "cell_type": "markdown",
   "id": "e324f2e9",
   "metadata": {},
   "source": [
    "### Inference<br>\n",
    "- Most of the content was added in the years <b>2008 and 2017-2021.</b>\n",
    "- <b>1737 movies/TV shows were added in 2019,</b> being the highest number.\n",
    "- Number of TV shows added has considerably increased since 2008.\n",
    "- On an average <b>1449 movies/TV shows are added per year since 2017.</b>\n",
    "- Number of movies/TV shows added should be maintained every year according to the availability of servers."
   ]
  },
  {
   "cell_type": "code",
   "execution_count": 663,
   "id": "b0f86b26",
   "metadata": {},
   "outputs": [
    {
     "data": {
      "text/html": [
       "<div>\n",
       "<style scoped>\n",
       "    .dataframe tbody tr th:only-of-type {\n",
       "        vertical-align: middle;\n",
       "    }\n",
       "\n",
       "    .dataframe tbody tr th {\n",
       "        vertical-align: top;\n",
       "    }\n",
       "\n",
       "    .dataframe thead th {\n",
       "        text-align: right;\n",
       "    }\n",
       "</style>\n",
       "<table border=\"1\" class=\"dataframe\">\n",
       "  <thead>\n",
       "    <tr style=\"text-align: right;\">\n",
       "      <th></th>\n",
       "      <th>count</th>\n",
       "    </tr>\n",
       "    <tr>\n",
       "      <th>release_year</th>\n",
       "      <th></th>\n",
       "    </tr>\n",
       "  </thead>\n",
       "  <tbody>\n",
       "    <tr>\n",
       "      <th>(1925, 1970]</th>\n",
       "      <td>53</td>\n",
       "    </tr>\n",
       "    <tr>\n",
       "      <th>(1970, 2000]</th>\n",
       "      <td>508</td>\n",
       "    </tr>\n",
       "    <tr>\n",
       "      <th>(2000, 2010]</th>\n",
       "      <td>966</td>\n",
       "    </tr>\n",
       "    <tr>\n",
       "      <th>(2010, 2015]</th>\n",
       "      <td>1618</td>\n",
       "    </tr>\n",
       "    <tr>\n",
       "      <th>(2015, 2021]</th>\n",
       "      <td>5654</td>\n",
       "    </tr>\n",
       "  </tbody>\n",
       "</table>\n",
       "</div>"
      ],
      "text/plain": [
       "              count\n",
       "release_year       \n",
       "(1925, 1970]     53\n",
       "(1970, 2000]    508\n",
       "(2000, 2010]    966\n",
       "(2010, 2015]   1618\n",
       "(2015, 2021]   5654"
      ]
     },
     "execution_count": 663,
     "metadata": {},
     "output_type": "execute_result"
    }
   ],
   "source": [
    "bins = [1925,1970,2000,2010,2015,2021]\n",
    "release_data=netflix.groupby(pd.cut(netflix['release_year'], bins=bins)).release_year.count().to_frame()\n",
    "release_data.rename(columns = {\"release_year\":\"count\"},inplace= True)\n",
    "release_data"
   ]
  },
  {
   "cell_type": "code",
   "execution_count": 664,
   "id": "e67487b8",
   "metadata": {},
   "outputs": [
    {
     "data": {
      "text/plain": [
       "<AxesSubplot:xlabel='release_year', ylabel='count'>"
      ]
     },
     "execution_count": 664,
     "metadata": {},
     "output_type": "execute_result"
    },
    {
     "data": {
      "image/png": "[encoded data removed]",
      "text/plain": [
       "<Figure size 720x576 with 1 Axes>"
      ]
     },
     "metadata": {},
     "output_type": "display_data"
    }
   ],
   "source": [
    "plt.figure(figsize=(10,8))\n",
    "sns.barplot(x=release_data.index,y='count',data=release_data,palette=\"Reds\")"
   ]
  },
  {
   "cell_type": "markdown",
   "id": "c5924ef3",
   "metadata": {},
   "source": [
    "### Inference<br>\n",
    "- Almost <b>65% of the content on Netflix is released within last 6 years</b> which tells that recently created content is popular on Netflix.\n",
    "- Only <b>6% of the added content is released before year 2000.</b> Adding older content can attract more viewers and subscribers."
   ]
  },
  {
   "cell_type": "markdown",
   "id": "7aeb1c88",
   "metadata": {},
   "source": [
    "### Summary of insights<br>\n",
    "- According to the data, Netflix began adding TV shows and Movies in year 2008.\n",
    "- <b>25%</b> of the shows/movies are those <b>released after 2019.</b>\n",
    "- <b>75%</b> of the shows/movies are <b>added on Netflix after 2017.</b>\n",
    "- <b>69.6%</b> of the content <b>consists of movies.</b>\n",
    "- <b>30.3%</b> of the content <b>consists of TV shows.</b>\n",
    "- <b>Top 10 countries</b> considering highest number of movies/tv shows produced are <b>United States, India, United Kingdom, Canada, France, Japan, Spain, South Korea, Germany and Mexico.</b>\n",
    "- Number of movies/tv <b>shows produced is greater than 100 in 16 countries.</b>\n",
    "- Number of <b>TV shows produced is higher than number of movies produced in Japan and South Korea unlike other countries</b> where number of movies produced is higher.\n",
    "- The <b>gap between movies and shows produced seems to be more than 50% in the countries except Mexico and Japan.</b>\n",
    "- <b>4 most popular genres are \"International movies\", \"Dramas\", \"Comedies\" and \"International TV shows\".</b>\n",
    "- Most of the content on Netflix is <b>added on Tuesdays and Fridays.</b>\n",
    "- <b>Least content is added on weekends i.e. Saturday and Sunday.</b>\n",
    "- Most of the content was added in the <b>years 2008 and 2017-2021.</b>\n",
    "- <b>1737 movies/TV shows were added in 2019,</b> being the highest number.\n",
    "- On an <b>average 1449 movies/TV shows are added per year since 2017</b>\n",
    "- Almost <b>65% of the content on Netflix is released within last 6 years</b> which tells that recently created content is popular on Netflix.\n",
    "- Only <b>6% of the added content is released before year 2000.</b> "
   ]
  },
  {
   "cell_type": "markdown",
   "id": "3aec531c",
   "metadata": {},
   "source": [
    "### Recommendations<br>\n",
    "- Movie is the popular format of content, so number of movies added should be maintained.\n",
    "- More TV shows can be added to increase the subscribers.\n",
    "- 16 countries contribute the most in production of content, these countries should be focused on to maintain the number of movies/TV shows produced.\n",
    "- The countries where less content is produced can be a topic of further research to get idea of the untapped potential and make the most of it.\n",
    "- Strategy should be planned to attract and encourage creators of the popular genres to add their content on Netflix.\n",
    "- More content should be added on weekends.\n",
    "- Number of TV shows added has considerably increased since 2008. Adding more TV shows can attract more viewers.\n",
    "- Number of movies/TV shows added should be maintained every year according to the availability of servers.\n",
    "- Recently created content is popular on Netflix.More focus on new content will help retain subscribers.\n",
    "- Adding older content can attract more viewers and subscribers, with different age groups."
   ]
  }
 ],
 "metadata": {
  "kernelspec": {
   "display_name": "Python 3 (ipykernel)",
   "language": "python",
   "name": "python3"
  },
  "language_info": {
   "codemirror_mode": {
    "name": "ipython",
    "version": 3
   },
   "file_extension": ".py",
   "mimetype": "text/x-python",
   "name": "python",
   "nbconvert_exporter": "python",
   "pygments_lexer": "ipython3",
   "version": "3.9.6"
  }
 },
 "nbformat": 4,
 "nbformat_minor": 5
}
